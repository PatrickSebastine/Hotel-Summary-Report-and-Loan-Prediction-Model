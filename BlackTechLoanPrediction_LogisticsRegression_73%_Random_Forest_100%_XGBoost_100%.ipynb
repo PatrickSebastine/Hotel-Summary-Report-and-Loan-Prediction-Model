{
 "cells": [
  {
   "cell_type": "markdown",
   "id": "52531bd8",
   "metadata": {},
   "source": [
    "## 1.0 Importing Libraries and Data "
   ]
  },
  {
   "cell_type": "code",
   "execution_count": 1,
   "id": "9b213413",
   "metadata": {},
   "outputs": [],
   "source": [
    "# Import necessary libraries\n",
    "import pandas as pd\n",
    "import numpy as np\n",
    "import seaborn as sns\n",
    "import datasist as ds\n",
    "import matplotlib.pyplot as plt\n",
    "%matplotlib inline\n",
    "from sklearn.model_selection import train_test_split\n",
    "import xgboost as xgb\n",
    "from sklearn.ensemble import RandomForestClassifier\n",
    "from sklearn.linear_model import LogisticRegression\n",
    "from sklearn.metrics import accuracy_score, precision_score, recall_score\n",
    "from sklearn.preprocessing import OrdinalEncoder\n",
    "from sklearn.metrics import confusion_matrix\n",
    "from colorama import Fore, Style"
   ]
  },
  {
   "cell_type": "code",
   "execution_count": 2,
   "id": "f97e0b95",
   "metadata": {},
   "outputs": [],
   "source": [
    "# Data Importing\n",
    "df = pd.read_csv('C:\\\\Users\\\\lynxn\\\\Google Drive\\\\My Drive\\\\Classroom\\\\Data Analytics Cohort 4\\\\Capstone Project\\\\dataset_risk_analytics (2).csv')"
   ]
  },
  {
   "cell_type": "markdown",
   "id": "6085999b",
   "metadata": {},
   "source": [
    "## 2.0 Interogate and understanding imported data"
   ]
  },
  {
   "cell_type": "code",
   "execution_count": 3,
   "id": "be6c039a",
   "metadata": {},
   "outputs": [],
   "source": [
    "#Using datasist info, describe, shape to get an understanding of Data imported"
   ]
  },
  {
   "cell_type": "code",
   "execution_count": 4,
   "id": "71749456",
   "metadata": {
    "scrolled": false
   },
   "outputs": [
    {
     "name": "stdout",
     "output_type": "stream",
     "text": [
      "First five data points\n"
     ]
    },
    {
     "data": {
      "text/html": [
       "<div>\n",
       "<style scoped>\n",
       "    .dataframe tbody tr th:only-of-type {\n",
       "        vertical-align: middle;\n",
       "    }\n",
       "\n",
       "    .dataframe tbody tr th {\n",
       "        vertical-align: top;\n",
       "    }\n",
       "\n",
       "    .dataframe thead th {\n",
       "        text-align: right;\n",
       "    }\n",
       "</style>\n",
       "<table border=\"1\" class=\"dataframe\">\n",
       "  <thead>\n",
       "    <tr style=\"text-align: right;\">\n",
       "      <th></th>\n",
       "      <th>loan_id</th>\n",
       "      <th>monthly_income</th>\n",
       "      <th>origination_score_band</th>\n",
       "      <th>TOB_months</th>\n",
       "      <th>closing_principal_balance</th>\n",
       "      <th>original_loan_amount</th>\n",
       "      <th>product</th>\n",
       "      <th>original_loan_term</th>\n",
       "      <th>remaining_loan_term</th>\n",
       "      <th>delq_history</th>\n",
       "      <th>target</th>\n",
       "    </tr>\n",
       "  </thead>\n",
       "  <tbody>\n",
       "    <tr>\n",
       "      <th>0</th>\n",
       "      <td>1000</td>\n",
       "      <td>6000.0</td>\n",
       "      <td>5</td>\n",
       "      <td>83.0</td>\n",
       "      <td>300.0</td>\n",
       "      <td>1800.0</td>\n",
       "      <td>B</td>\n",
       "      <td>24</td>\n",
       "      <td>5</td>\n",
       "      <td>0,0,0,0,0,0</td>\n",
       "      <td>0</td>\n",
       "    </tr>\n",
       "    <tr>\n",
       "      <th>1</th>\n",
       "      <td>1001</td>\n",
       "      <td>39000.0</td>\n",
       "      <td>5</td>\n",
       "      <td>82.0</td>\n",
       "      <td>7200.0</td>\n",
       "      <td>11700.0</td>\n",
       "      <td>B</td>\n",
       "      <td>60</td>\n",
       "      <td>42</td>\n",
       "      <td>0,1,0,0,0,0</td>\n",
       "      <td>0</td>\n",
       "    </tr>\n",
       "    <tr>\n",
       "      <th>2</th>\n",
       "      <td>1002</td>\n",
       "      <td>18000.0</td>\n",
       "      <td>5</td>\n",
       "      <td>78.0</td>\n",
       "      <td>2700.0</td>\n",
       "      <td>5400.0</td>\n",
       "      <td>B</td>\n",
       "      <td>60</td>\n",
       "      <td>46</td>\n",
       "      <td>0,0,1,0,0,0</td>\n",
       "      <td>0</td>\n",
       "    </tr>\n",
       "    <tr>\n",
       "      <th>3</th>\n",
       "      <td>1003</td>\n",
       "      <td>23250.0</td>\n",
       "      <td>3</td>\n",
       "      <td>76.0</td>\n",
       "      <td>3900.0</td>\n",
       "      <td>6900.0</td>\n",
       "      <td>B</td>\n",
       "      <td>60</td>\n",
       "      <td>48</td>\n",
       "      <td>1,1,0,1,0,0</td>\n",
       "      <td>1</td>\n",
       "    </tr>\n",
       "    <tr>\n",
       "      <th>4</th>\n",
       "      <td>1004</td>\n",
       "      <td>12000.0</td>\n",
       "      <td>3</td>\n",
       "      <td>74.0</td>\n",
       "      <td>2100.0</td>\n",
       "      <td>3600.0</td>\n",
       "      <td>B</td>\n",
       "      <td>60</td>\n",
       "      <td>50</td>\n",
       "      <td>1,0,0,0,0,0</td>\n",
       "      <td>0</td>\n",
       "    </tr>\n",
       "  </tbody>\n",
       "</table>\n",
       "</div>"
      ],
      "text/plain": [
       "   loan_id  monthly_income  origination_score_band  TOB_months  \\\n",
       "0     1000          6000.0                       5        83.0   \n",
       "1     1001         39000.0                       5        82.0   \n",
       "2     1002         18000.0                       5        78.0   \n",
       "3     1003         23250.0                       3        76.0   \n",
       "4     1004         12000.0                       3        74.0   \n",
       "\n",
       "   closing_principal_balance  original_loan_amount product  \\\n",
       "0                      300.0                1800.0       B   \n",
       "1                     7200.0               11700.0       B   \n",
       "2                     2700.0                5400.0       B   \n",
       "3                     3900.0                6900.0       B   \n",
       "4                     2100.0                3600.0       B   \n",
       "\n",
       "   original_loan_term  remaining_loan_term delq_history  target  \n",
       "0                  24                    5  0,0,0,0,0,0       0  \n",
       "1                  60                   42  0,1,0,0,0,0       0  \n",
       "2                  60                   46  0,0,1,0,0,0       0  \n",
       "3                  60                   48  1,1,0,1,0,0       1  \n",
       "4                  60                   50  1,0,0,0,0,0       0  "
      ]
     },
     "metadata": {},
     "output_type": "display_data"
    },
    {
     "name": "stdout",
     "output_type": "stream",
     "text": [
      "\n",
      "\n",
      "Random five data points\n"
     ]
    },
    {
     "data": {
      "text/html": [
       "<div>\n",
       "<style scoped>\n",
       "    .dataframe tbody tr th:only-of-type {\n",
       "        vertical-align: middle;\n",
       "    }\n",
       "\n",
       "    .dataframe tbody tr th {\n",
       "        vertical-align: top;\n",
       "    }\n",
       "\n",
       "    .dataframe thead th {\n",
       "        text-align: right;\n",
       "    }\n",
       "</style>\n",
       "<table border=\"1\" class=\"dataframe\">\n",
       "  <thead>\n",
       "    <tr style=\"text-align: right;\">\n",
       "      <th></th>\n",
       "      <th>loan_id</th>\n",
       "      <th>monthly_income</th>\n",
       "      <th>origination_score_band</th>\n",
       "      <th>TOB_months</th>\n",
       "      <th>closing_principal_balance</th>\n",
       "      <th>original_loan_amount</th>\n",
       "      <th>product</th>\n",
       "      <th>original_loan_term</th>\n",
       "      <th>remaining_loan_term</th>\n",
       "      <th>delq_history</th>\n",
       "      <th>target</th>\n",
       "    </tr>\n",
       "  </thead>\n",
       "  <tbody>\n",
       "    <tr>\n",
       "      <th>1625</th>\n",
       "      <td>2474</td>\n",
       "      <td>2250.0</td>\n",
       "      <td>3</td>\n",
       "      <td>20.0</td>\n",
       "      <td>100.0</td>\n",
       "      <td>200.0</td>\n",
       "      <td>C</td>\n",
       "      <td>42</td>\n",
       "      <td>27</td>\n",
       "      <td>0,0,0,0,0,0</td>\n",
       "      <td>1</td>\n",
       "    </tr>\n",
       "    <tr>\n",
       "      <th>4945</th>\n",
       "      <td>5490</td>\n",
       "      <td>8250.0</td>\n",
       "      <td>4</td>\n",
       "      <td>59.0</td>\n",
       "      <td>690.0</td>\n",
       "      <td>1840.0</td>\n",
       "      <td>B</td>\n",
       "      <td>60</td>\n",
       "      <td>5</td>\n",
       "      <td>0,0,0,0,0,0</td>\n",
       "      <td>1</td>\n",
       "    </tr>\n",
       "    <tr>\n",
       "      <th>66</th>\n",
       "      <td>1061</td>\n",
       "      <td>15750.0</td>\n",
       "      <td>5</td>\n",
       "      <td>33.0</td>\n",
       "      <td>4500.0</td>\n",
       "      <td>4800.0</td>\n",
       "      <td>A</td>\n",
       "      <td>60</td>\n",
       "      <td>31</td>\n",
       "      <td>0,0,0,0,0,0</td>\n",
       "      <td>1</td>\n",
       "    </tr>\n",
       "    <tr>\n",
       "      <th>1190</th>\n",
       "      <td>2081</td>\n",
       "      <td>9000.0</td>\n",
       "      <td>5</td>\n",
       "      <td>54.0</td>\n",
       "      <td>700.0</td>\n",
       "      <td>900.0</td>\n",
       "      <td>A</td>\n",
       "      <td>60</td>\n",
       "      <td>10</td>\n",
       "      <td>0,0,0,0,0,0</td>\n",
       "      <td>1</td>\n",
       "    </tr>\n",
       "    <tr>\n",
       "      <th>4178</th>\n",
       "      <td>4794</td>\n",
       "      <td>5250.0</td>\n",
       "      <td>5</td>\n",
       "      <td>9.0</td>\n",
       "      <td>750.0</td>\n",
       "      <td>750.0</td>\n",
       "      <td>A</td>\n",
       "      <td>60</td>\n",
       "      <td>55</td>\n",
       "      <td>0,0,0,0,0,0</td>\n",
       "      <td>0</td>\n",
       "    </tr>\n",
       "  </tbody>\n",
       "</table>\n",
       "</div>"
      ],
      "text/plain": [
       "      loan_id  monthly_income  origination_score_band  TOB_months  \\\n",
       "1625     2474          2250.0                       3        20.0   \n",
       "4945     5490          8250.0                       4        59.0   \n",
       "66       1061         15750.0                       5        33.0   \n",
       "1190     2081          9000.0                       5        54.0   \n",
       "4178     4794          5250.0                       5         9.0   \n",
       "\n",
       "      closing_principal_balance  original_loan_amount product  \\\n",
       "1625                      100.0                 200.0       C   \n",
       "4945                      690.0                1840.0       B   \n",
       "66                       4500.0                4800.0       A   \n",
       "1190                      700.0                 900.0       A   \n",
       "4178                      750.0                 750.0       A   \n",
       "\n",
       "      original_loan_term  remaining_loan_term delq_history  target  \n",
       "1625                  42                   27  0,0,0,0,0,0       1  \n",
       "4945                  60                    5  0,0,0,0,0,0       1  \n",
       "66                    60                   31  0,0,0,0,0,0       1  \n",
       "1190                  60                   10  0,0,0,0,0,0       1  \n",
       "4178                  60                   55  0,0,0,0,0,0       0  "
      ]
     },
     "metadata": {},
     "output_type": "display_data"
    },
    {
     "name": "stdout",
     "output_type": "stream",
     "text": [
      "\n",
      "\n",
      "Last five data points\n"
     ]
    },
    {
     "data": {
      "text/html": [
       "<div>\n",
       "<style scoped>\n",
       "    .dataframe tbody tr th:only-of-type {\n",
       "        vertical-align: middle;\n",
       "    }\n",
       "\n",
       "    .dataframe tbody tr th {\n",
       "        vertical-align: top;\n",
       "    }\n",
       "\n",
       "    .dataframe thead th {\n",
       "        text-align: right;\n",
       "    }\n",
       "</style>\n",
       "<table border=\"1\" class=\"dataframe\">\n",
       "  <thead>\n",
       "    <tr style=\"text-align: right;\">\n",
       "      <th></th>\n",
       "      <th>loan_id</th>\n",
       "      <th>monthly_income</th>\n",
       "      <th>origination_score_band</th>\n",
       "      <th>TOB_months</th>\n",
       "      <th>closing_principal_balance</th>\n",
       "      <th>original_loan_amount</th>\n",
       "      <th>product</th>\n",
       "      <th>original_loan_term</th>\n",
       "      <th>remaining_loan_term</th>\n",
       "      <th>delq_history</th>\n",
       "      <th>target</th>\n",
       "    </tr>\n",
       "  </thead>\n",
       "  <tbody>\n",
       "    <tr>\n",
       "      <th>5778</th>\n",
       "      <td>6245</td>\n",
       "      <td>8250.0</td>\n",
       "      <td>4</td>\n",
       "      <td>6.0</td>\n",
       "      <td>6000.0</td>\n",
       "      <td>6000.0</td>\n",
       "      <td>A</td>\n",
       "      <td>36</td>\n",
       "      <td>35</td>\n",
       "      <td>0,0,0,0,0,0</td>\n",
       "      <td>0</td>\n",
       "    </tr>\n",
       "    <tr>\n",
       "      <th>5779</th>\n",
       "      <td>6246</td>\n",
       "      <td>2250.0</td>\n",
       "      <td>5</td>\n",
       "      <td>6.0</td>\n",
       "      <td>1500.0</td>\n",
       "      <td>1500.0</td>\n",
       "      <td>C</td>\n",
       "      <td>12</td>\n",
       "      <td>11</td>\n",
       "      <td>0,0,0,0,0,0</td>\n",
       "      <td>0</td>\n",
       "    </tr>\n",
       "    <tr>\n",
       "      <th>5780</th>\n",
       "      <td>6247</td>\n",
       "      <td>3750.0</td>\n",
       "      <td>5</td>\n",
       "      <td>6.0</td>\n",
       "      <td>3000.0</td>\n",
       "      <td>3000.0</td>\n",
       "      <td>D</td>\n",
       "      <td>60</td>\n",
       "      <td>65</td>\n",
       "      <td>0,0,0,0,0,0</td>\n",
       "      <td>0</td>\n",
       "    </tr>\n",
       "    <tr>\n",
       "      <th>5781</th>\n",
       "      <td>6248</td>\n",
       "      <td>9750.0</td>\n",
       "      <td>7</td>\n",
       "      <td>6.0</td>\n",
       "      <td>7500.0</td>\n",
       "      <td>7500.0</td>\n",
       "      <td>D</td>\n",
       "      <td>60</td>\n",
       "      <td>65</td>\n",
       "      <td>0,0,0,0,0,0</td>\n",
       "      <td>1</td>\n",
       "    </tr>\n",
       "    <tr>\n",
       "      <th>5782</th>\n",
       "      <td>6249</td>\n",
       "      <td>2250.0</td>\n",
       "      <td>6</td>\n",
       "      <td>6.0</td>\n",
       "      <td>1500.0</td>\n",
       "      <td>1500.0</td>\n",
       "      <td>C</td>\n",
       "      <td>36</td>\n",
       "      <td>35</td>\n",
       "      <td>0,0,0,0,0,0</td>\n",
       "      <td>0</td>\n",
       "    </tr>\n",
       "  </tbody>\n",
       "</table>\n",
       "</div>"
      ],
      "text/plain": [
       "      loan_id  monthly_income  origination_score_band  TOB_months  \\\n",
       "5778     6245          8250.0                       4         6.0   \n",
       "5779     6246          2250.0                       5         6.0   \n",
       "5780     6247          3750.0                       5         6.0   \n",
       "5781     6248          9750.0                       7         6.0   \n",
       "5782     6249          2250.0                       6         6.0   \n",
       "\n",
       "      closing_principal_balance  original_loan_amount product  \\\n",
       "5778                     6000.0                6000.0       A   \n",
       "5779                     1500.0                1500.0       C   \n",
       "5780                     3000.0                3000.0       D   \n",
       "5781                     7500.0                7500.0       D   \n",
       "5782                     1500.0                1500.0       C   \n",
       "\n",
       "      original_loan_term  remaining_loan_term delq_history  target  \n",
       "5778                  36                   35  0,0,0,0,0,0       0  \n",
       "5779                  12                   11  0,0,0,0,0,0       0  \n",
       "5780                  60                   65  0,0,0,0,0,0       0  \n",
       "5781                  60                   65  0,0,0,0,0,0       1  \n",
       "5782                  36                   35  0,0,0,0,0,0       0  "
      ]
     },
     "metadata": {},
     "output_type": "display_data"
    },
    {
     "name": "stdout",
     "output_type": "stream",
     "text": [
      "\n",
      "\n",
      "Shape of  data set: (5783, 11)\n",
      "\n",
      "\n",
      "Size of  data set: 63613\n",
      "\n",
      "\n",
      "Data Types\n",
      "Note: All Non-numerical features are identified as objects in pandas\n"
     ]
    },
    {
     "data": {
      "text/html": [
       "<div>\n",
       "<style scoped>\n",
       "    .dataframe tbody tr th:only-of-type {\n",
       "        vertical-align: middle;\n",
       "    }\n",
       "\n",
       "    .dataframe tbody tr th {\n",
       "        vertical-align: top;\n",
       "    }\n",
       "\n",
       "    .dataframe thead th {\n",
       "        text-align: right;\n",
       "    }\n",
       "</style>\n",
       "<table border=\"1\" class=\"dataframe\">\n",
       "  <thead>\n",
       "    <tr style=\"text-align: right;\">\n",
       "      <th></th>\n",
       "      <th>Data Type</th>\n",
       "    </tr>\n",
       "  </thead>\n",
       "  <tbody>\n",
       "    <tr>\n",
       "      <th>loan_id</th>\n",
       "      <td>int64</td>\n",
       "    </tr>\n",
       "    <tr>\n",
       "      <th>monthly_income</th>\n",
       "      <td>float64</td>\n",
       "    </tr>\n",
       "    <tr>\n",
       "      <th>origination_score_band</th>\n",
       "      <td>int64</td>\n",
       "    </tr>\n",
       "    <tr>\n",
       "      <th>TOB_months</th>\n",
       "      <td>float64</td>\n",
       "    </tr>\n",
       "    <tr>\n",
       "      <th>closing_principal_balance</th>\n",
       "      <td>float64</td>\n",
       "    </tr>\n",
       "    <tr>\n",
       "      <th>original_loan_amount</th>\n",
       "      <td>float64</td>\n",
       "    </tr>\n",
       "    <tr>\n",
       "      <th>product</th>\n",
       "      <td>object</td>\n",
       "    </tr>\n",
       "    <tr>\n",
       "      <th>original_loan_term</th>\n",
       "      <td>int64</td>\n",
       "    </tr>\n",
       "    <tr>\n",
       "      <th>remaining_loan_term</th>\n",
       "      <td>int64</td>\n",
       "    </tr>\n",
       "    <tr>\n",
       "      <th>delq_history</th>\n",
       "      <td>object</td>\n",
       "    </tr>\n",
       "    <tr>\n",
       "      <th>target</th>\n",
       "      <td>int64</td>\n",
       "    </tr>\n",
       "  </tbody>\n",
       "</table>\n",
       "</div>"
      ],
      "text/plain": [
       "                          Data Type\n",
       "loan_id                       int64\n",
       "monthly_income              float64\n",
       "origination_score_band        int64\n",
       "TOB_months                  float64\n",
       "closing_principal_balance   float64\n",
       "original_loan_amount        float64\n",
       "product                      object\n",
       "original_loan_term            int64\n",
       "remaining_loan_term           int64\n",
       "delq_history                 object\n",
       "target                        int64"
      ]
     },
     "metadata": {},
     "output_type": "display_data"
    },
    {
     "name": "stdout",
     "output_type": "stream",
     "text": [
      "\n",
      "\n",
      "Numerical Features in Data set\n",
      "['loan_id', 'monthly_income', 'origination_score_band', 'TOB_months', 'closing_principal_balance', 'original_loan_amount', 'original_loan_term', 'remaining_loan_term', 'target']\n",
      "\n",
      "\n",
      "Categorical Features in Data set\n"
     ]
    },
    {
     "data": {
      "text/plain": [
       "['product', 'delq_history']"
      ]
     },
     "metadata": {},
     "output_type": "display_data"
    },
    {
     "name": "stdout",
     "output_type": "stream",
     "text": [
      "\n",
      "\n",
      "Statistical Description of Columns\n"
     ]
    },
    {
     "data": {
      "text/html": [
       "<div>\n",
       "<style scoped>\n",
       "    .dataframe tbody tr th:only-of-type {\n",
       "        vertical-align: middle;\n",
       "    }\n",
       "\n",
       "    .dataframe tbody tr th {\n",
       "        vertical-align: top;\n",
       "    }\n",
       "\n",
       "    .dataframe thead th {\n",
       "        text-align: right;\n",
       "    }\n",
       "</style>\n",
       "<table border=\"1\" class=\"dataframe\">\n",
       "  <thead>\n",
       "    <tr style=\"text-align: right;\">\n",
       "      <th></th>\n",
       "      <th>loan_id</th>\n",
       "      <th>monthly_income</th>\n",
       "      <th>origination_score_band</th>\n",
       "      <th>TOB_months</th>\n",
       "      <th>closing_principal_balance</th>\n",
       "      <th>original_loan_amount</th>\n",
       "      <th>original_loan_term</th>\n",
       "      <th>remaining_loan_term</th>\n",
       "      <th>target</th>\n",
       "    </tr>\n",
       "  </thead>\n",
       "  <tbody>\n",
       "    <tr>\n",
       "      <th>count</th>\n",
       "      <td>5783.000000</td>\n",
       "      <td>5406.000000</td>\n",
       "      <td>5783.000000</td>\n",
       "      <td>5406.000000</td>\n",
       "      <td>5406.000000</td>\n",
       "      <td>5406.000000</td>\n",
       "      <td>5783.000000</td>\n",
       "      <td>5783.000000</td>\n",
       "      <td>5783.000000</td>\n",
       "    </tr>\n",
       "    <tr>\n",
       "      <th>mean</th>\n",
       "      <td>3625.042711</td>\n",
       "      <td>14314.372919</td>\n",
       "      <td>3.904029</td>\n",
       "      <td>28.385683</td>\n",
       "      <td>5714.391417</td>\n",
       "      <td>6630.701073</td>\n",
       "      <td>62.023517</td>\n",
       "      <td>39.618364</td>\n",
       "      <td>0.302092</td>\n",
       "    </tr>\n",
       "    <tr>\n",
       "      <th>std</th>\n",
       "      <td>1516.292643</td>\n",
       "      <td>13799.514988</td>\n",
       "      <td>1.490877</td>\n",
       "      <td>16.357494</td>\n",
       "      <td>7837.483534</td>\n",
       "      <td>8491.265603</td>\n",
       "      <td>23.774170</td>\n",
       "      <td>25.004423</td>\n",
       "      <td>0.459205</td>\n",
       "    </tr>\n",
       "    <tr>\n",
       "      <th>min</th>\n",
       "      <td>1000.000000</td>\n",
       "      <td>750.000000</td>\n",
       "      <td>1.000000</td>\n",
       "      <td>6.000000</td>\n",
       "      <td>100.000000</td>\n",
       "      <td>100.000000</td>\n",
       "      <td>12.000000</td>\n",
       "      <td>0.000000</td>\n",
       "      <td>0.000000</td>\n",
       "    </tr>\n",
       "    <tr>\n",
       "      <th>25%</th>\n",
       "      <td>2310.500000</td>\n",
       "      <td>6000.000000</td>\n",
       "      <td>3.000000</td>\n",
       "      <td>17.000000</td>\n",
       "      <td>1380.000000</td>\n",
       "      <td>1800.000000</td>\n",
       "      <td>60.000000</td>\n",
       "      <td>23.000000</td>\n",
       "      <td>0.000000</td>\n",
       "    </tr>\n",
       "    <tr>\n",
       "      <th>50%</th>\n",
       "      <td>3623.000000</td>\n",
       "      <td>9750.000000</td>\n",
       "      <td>4.000000</td>\n",
       "      <td>24.000000</td>\n",
       "      <td>3000.000000</td>\n",
       "      <td>3750.000000</td>\n",
       "      <td>60.000000</td>\n",
       "      <td>40.000000</td>\n",
       "      <td>0.000000</td>\n",
       "    </tr>\n",
       "    <tr>\n",
       "      <th>75%</th>\n",
       "      <td>4934.500000</td>\n",
       "      <td>17250.000000</td>\n",
       "      <td>5.000000</td>\n",
       "      <td>38.000000</td>\n",
       "      <td>6800.000000</td>\n",
       "      <td>8100.000000</td>\n",
       "      <td>60.000000</td>\n",
       "      <td>51.000000</td>\n",
       "      <td>1.000000</td>\n",
       "    </tr>\n",
       "    <tr>\n",
       "      <th>max</th>\n",
       "      <td>6249.000000</td>\n",
       "      <td>99750.000000</td>\n",
       "      <td>8.000000</td>\n",
       "      <td>83.000000</td>\n",
       "      <td>88200.000000</td>\n",
       "      <td>90000.000000</td>\n",
       "      <td>192.000000</td>\n",
       "      <td>177.000000</td>\n",
       "      <td>1.000000</td>\n",
       "    </tr>\n",
       "  </tbody>\n",
       "</table>\n",
       "</div>"
      ],
      "text/plain": [
       "           loan_id  monthly_income  origination_score_band   TOB_months  \\\n",
       "count  5783.000000     5406.000000             5783.000000  5406.000000   \n",
       "mean   3625.042711    14314.372919                3.904029    28.385683   \n",
       "std    1516.292643    13799.514988                1.490877    16.357494   \n",
       "min    1000.000000      750.000000                1.000000     6.000000   \n",
       "25%    2310.500000     6000.000000                3.000000    17.000000   \n",
       "50%    3623.000000     9750.000000                4.000000    24.000000   \n",
       "75%    4934.500000    17250.000000                5.000000    38.000000   \n",
       "max    6249.000000    99750.000000                8.000000    83.000000   \n",
       "\n",
       "       closing_principal_balance  original_loan_amount  original_loan_term  \\\n",
       "count                5406.000000           5406.000000         5783.000000   \n",
       "mean                 5714.391417           6630.701073           62.023517   \n",
       "std                  7837.483534           8491.265603           23.774170   \n",
       "min                   100.000000            100.000000           12.000000   \n",
       "25%                  1380.000000           1800.000000           60.000000   \n",
       "50%                  3000.000000           3750.000000           60.000000   \n",
       "75%                  6800.000000           8100.000000           60.000000   \n",
       "max                 88200.000000          90000.000000          192.000000   \n",
       "\n",
       "       remaining_loan_term       target  \n",
       "count          5783.000000  5783.000000  \n",
       "mean             39.618364     0.302092  \n",
       "std              25.004423     0.459205  \n",
       "min               0.000000     0.000000  \n",
       "25%              23.000000     0.000000  \n",
       "50%              40.000000     0.000000  \n",
       "75%              51.000000     1.000000  \n",
       "max             177.000000     1.000000  "
      ]
     },
     "metadata": {},
     "output_type": "display_data"
    },
    {
     "name": "stdout",
     "output_type": "stream",
     "text": [
      "\n",
      "\n",
      "Description of Categorical Features\n"
     ]
    },
    {
     "data": {
      "text/html": [
       "<div>\n",
       "<style scoped>\n",
       "    .dataframe tbody tr th:only-of-type {\n",
       "        vertical-align: middle;\n",
       "    }\n",
       "\n",
       "    .dataframe tbody tr th {\n",
       "        vertical-align: top;\n",
       "    }\n",
       "\n",
       "    .dataframe thead th {\n",
       "        text-align: right;\n",
       "    }\n",
       "</style>\n",
       "<table border=\"1\" class=\"dataframe\">\n",
       "  <thead>\n",
       "    <tr style=\"text-align: right;\">\n",
       "      <th></th>\n",
       "      <th>count</th>\n",
       "      <th>unique</th>\n",
       "      <th>top</th>\n",
       "      <th>freq</th>\n",
       "    </tr>\n",
       "  </thead>\n",
       "  <tbody>\n",
       "    <tr>\n",
       "      <th>product</th>\n",
       "      <td>5783</td>\n",
       "      <td>4</td>\n",
       "      <td>A</td>\n",
       "      <td>2942</td>\n",
       "    </tr>\n",
       "    <tr>\n",
       "      <th>delq_history</th>\n",
       "      <td>5406</td>\n",
       "      <td>55</td>\n",
       "      <td>0,0,0,0,0,0</td>\n",
       "      <td>3838</td>\n",
       "    </tr>\n",
       "  </tbody>\n",
       "</table>\n",
       "</div>"
      ],
      "text/plain": [
       "             count unique          top  freq\n",
       "product       5783      4            A  2942\n",
       "delq_history  5406     55  0,0,0,0,0,0  3838"
      ]
     },
     "metadata": {},
     "output_type": "display_data"
    },
    {
     "name": "stdout",
     "output_type": "stream",
     "text": [
      "\n",
      "\n",
      "Unique class Count of Categorical features\n"
     ]
    },
    {
     "data": {
      "text/html": [
       "<style type=\"text/css\">\n",
       "#T_cec83_row0_col1 {\n",
       "  width: 10em;\n",
       "  background: linear-gradient(90deg, #d65f5f 7.1%, transparent 7.1%);\n",
       "}\n",
       "#T_cec83_row1_col1 {\n",
       "  width: 10em;\n",
       "  background: linear-gradient(90deg, #d65f5f 100.0%, transparent 100.0%);\n",
       "}\n",
       "</style>\n",
       "<table id=\"T_cec83\">\n",
       "  <thead>\n",
       "    <tr>\n",
       "      <th class=\"blank level0\" >&nbsp;</th>\n",
       "      <th id=\"T_cec83_level0_col0\" class=\"col_heading level0 col0\" >Feature</th>\n",
       "      <th id=\"T_cec83_level0_col1\" class=\"col_heading level0 col1\" >Unique Count</th>\n",
       "    </tr>\n",
       "  </thead>\n",
       "  <tbody>\n",
       "    <tr>\n",
       "      <th id=\"T_cec83_level0_row0\" class=\"row_heading level0 row0\" >0</th>\n",
       "      <td id=\"T_cec83_row0_col0\" class=\"data row0 col0\" >product</td>\n",
       "      <td id=\"T_cec83_row0_col1\" class=\"data row0 col1\" >4</td>\n",
       "    </tr>\n",
       "    <tr>\n",
       "      <th id=\"T_cec83_level0_row1\" class=\"row_heading level0 row1\" >1</th>\n",
       "      <td id=\"T_cec83_row1_col0\" class=\"data row1 col0\" >delq_history</td>\n",
       "      <td id=\"T_cec83_row1_col1\" class=\"data row1 col1\" >56</td>\n",
       "    </tr>\n",
       "  </tbody>\n",
       "</table>\n"
      ],
      "text/plain": [
       "<pandas.io.formats.style.Styler at 0x170099532e0>"
      ]
     },
     "metadata": {},
     "output_type": "display_data"
    },
    {
     "name": "stdout",
     "output_type": "stream",
     "text": [
      "\n",
      "\n",
      "Missing Values in Data\n"
     ]
    },
    {
     "data": {
      "text/html": [
       "<div>\n",
       "<style scoped>\n",
       "    .dataframe tbody tr th:only-of-type {\n",
       "        vertical-align: middle;\n",
       "    }\n",
       "\n",
       "    .dataframe tbody tr th {\n",
       "        vertical-align: top;\n",
       "    }\n",
       "\n",
       "    .dataframe thead th {\n",
       "        text-align: right;\n",
       "    }\n",
       "</style>\n",
       "<table border=\"1\" class=\"dataframe\">\n",
       "  <thead>\n",
       "    <tr style=\"text-align: right;\">\n",
       "      <th></th>\n",
       "      <th>features</th>\n",
       "      <th>missing_counts</th>\n",
       "      <th>missing_percent</th>\n",
       "    </tr>\n",
       "  </thead>\n",
       "  <tbody>\n",
       "    <tr>\n",
       "      <th>0</th>\n",
       "      <td>loan_id</td>\n",
       "      <td>0</td>\n",
       "      <td>0.0</td>\n",
       "    </tr>\n",
       "    <tr>\n",
       "      <th>1</th>\n",
       "      <td>monthly_income</td>\n",
       "      <td>377</td>\n",
       "      <td>6.5</td>\n",
       "    </tr>\n",
       "    <tr>\n",
       "      <th>2</th>\n",
       "      <td>origination_score_band</td>\n",
       "      <td>0</td>\n",
       "      <td>0.0</td>\n",
       "    </tr>\n",
       "    <tr>\n",
       "      <th>3</th>\n",
       "      <td>TOB_months</td>\n",
       "      <td>377</td>\n",
       "      <td>6.5</td>\n",
       "    </tr>\n",
       "    <tr>\n",
       "      <th>4</th>\n",
       "      <td>closing_principal_balance</td>\n",
       "      <td>377</td>\n",
       "      <td>6.5</td>\n",
       "    </tr>\n",
       "    <tr>\n",
       "      <th>5</th>\n",
       "      <td>original_loan_amount</td>\n",
       "      <td>377</td>\n",
       "      <td>6.5</td>\n",
       "    </tr>\n",
       "    <tr>\n",
       "      <th>6</th>\n",
       "      <td>product</td>\n",
       "      <td>0</td>\n",
       "      <td>0.0</td>\n",
       "    </tr>\n",
       "    <tr>\n",
       "      <th>7</th>\n",
       "      <td>original_loan_term</td>\n",
       "      <td>0</td>\n",
       "      <td>0.0</td>\n",
       "    </tr>\n",
       "    <tr>\n",
       "      <th>8</th>\n",
       "      <td>remaining_loan_term</td>\n",
       "      <td>0</td>\n",
       "      <td>0.0</td>\n",
       "    </tr>\n",
       "    <tr>\n",
       "      <th>9</th>\n",
       "      <td>delq_history</td>\n",
       "      <td>377</td>\n",
       "      <td>6.5</td>\n",
       "    </tr>\n",
       "    <tr>\n",
       "      <th>10</th>\n",
       "      <td>target</td>\n",
       "      <td>0</td>\n",
       "      <td>0.0</td>\n",
       "    </tr>\n",
       "  </tbody>\n",
       "</table>\n",
       "</div>"
      ],
      "text/plain": [
       "                     features  missing_counts  missing_percent\n",
       "0                     loan_id               0              0.0\n",
       "1              monthly_income             377              6.5\n",
       "2      origination_score_band               0              0.0\n",
       "3                  TOB_months             377              6.5\n",
       "4   closing_principal_balance             377              6.5\n",
       "5        original_loan_amount             377              6.5\n",
       "6                     product               0              0.0\n",
       "7          original_loan_term               0              0.0\n",
       "8         remaining_loan_term               0              0.0\n",
       "9                delq_history             377              6.5\n",
       "10                     target               0              0.0"
      ]
     },
     "metadata": {},
     "output_type": "display_data"
    }
   ],
   "source": [
    "ds.structdata.describe(df)"
   ]
  },
  {
   "cell_type": "code",
   "execution_count": 5,
   "id": "6ca7e129",
   "metadata": {
    "scrolled": true
   },
   "outputs": [
    {
     "data": {
      "text/html": [
       "<div>\n",
       "<style scoped>\n",
       "    .dataframe tbody tr th:only-of-type {\n",
       "        vertical-align: middle;\n",
       "    }\n",
       "\n",
       "    .dataframe tbody tr th {\n",
       "        vertical-align: top;\n",
       "    }\n",
       "\n",
       "    .dataframe thead th {\n",
       "        text-align: right;\n",
       "    }\n",
       "</style>\n",
       "<table border=\"1\" class=\"dataframe\">\n",
       "  <thead>\n",
       "    <tr style=\"text-align: right;\">\n",
       "      <th></th>\n",
       "      <th>loan_id</th>\n",
       "      <th>monthly_income</th>\n",
       "      <th>origination_score_band</th>\n",
       "      <th>TOB_months</th>\n",
       "      <th>closing_principal_balance</th>\n",
       "      <th>original_loan_amount</th>\n",
       "      <th>original_loan_term</th>\n",
       "      <th>remaining_loan_term</th>\n",
       "      <th>target</th>\n",
       "    </tr>\n",
       "  </thead>\n",
       "  <tbody>\n",
       "    <tr>\n",
       "      <th>count</th>\n",
       "      <td>5783.000000</td>\n",
       "      <td>5406.000000</td>\n",
       "      <td>5783.000000</td>\n",
       "      <td>5406.000000</td>\n",
       "      <td>5406.000000</td>\n",
       "      <td>5406.000000</td>\n",
       "      <td>5783.000000</td>\n",
       "      <td>5783.000000</td>\n",
       "      <td>5783.000000</td>\n",
       "    </tr>\n",
       "    <tr>\n",
       "      <th>mean</th>\n",
       "      <td>3625.042711</td>\n",
       "      <td>14314.372919</td>\n",
       "      <td>3.904029</td>\n",
       "      <td>28.385683</td>\n",
       "      <td>5714.391417</td>\n",
       "      <td>6630.701073</td>\n",
       "      <td>62.023517</td>\n",
       "      <td>39.618364</td>\n",
       "      <td>0.302092</td>\n",
       "    </tr>\n",
       "    <tr>\n",
       "      <th>std</th>\n",
       "      <td>1516.292643</td>\n",
       "      <td>13799.514988</td>\n",
       "      <td>1.490877</td>\n",
       "      <td>16.357494</td>\n",
       "      <td>7837.483534</td>\n",
       "      <td>8491.265603</td>\n",
       "      <td>23.774170</td>\n",
       "      <td>25.004423</td>\n",
       "      <td>0.459205</td>\n",
       "    </tr>\n",
       "    <tr>\n",
       "      <th>min</th>\n",
       "      <td>1000.000000</td>\n",
       "      <td>750.000000</td>\n",
       "      <td>1.000000</td>\n",
       "      <td>6.000000</td>\n",
       "      <td>100.000000</td>\n",
       "      <td>100.000000</td>\n",
       "      <td>12.000000</td>\n",
       "      <td>0.000000</td>\n",
       "      <td>0.000000</td>\n",
       "    </tr>\n",
       "    <tr>\n",
       "      <th>25%</th>\n",
       "      <td>2310.500000</td>\n",
       "      <td>6000.000000</td>\n",
       "      <td>3.000000</td>\n",
       "      <td>17.000000</td>\n",
       "      <td>1380.000000</td>\n",
       "      <td>1800.000000</td>\n",
       "      <td>60.000000</td>\n",
       "      <td>23.000000</td>\n",
       "      <td>0.000000</td>\n",
       "    </tr>\n",
       "    <tr>\n",
       "      <th>50%</th>\n",
       "      <td>3623.000000</td>\n",
       "      <td>9750.000000</td>\n",
       "      <td>4.000000</td>\n",
       "      <td>24.000000</td>\n",
       "      <td>3000.000000</td>\n",
       "      <td>3750.000000</td>\n",
       "      <td>60.000000</td>\n",
       "      <td>40.000000</td>\n",
       "      <td>0.000000</td>\n",
       "    </tr>\n",
       "    <tr>\n",
       "      <th>75%</th>\n",
       "      <td>4934.500000</td>\n",
       "      <td>17250.000000</td>\n",
       "      <td>5.000000</td>\n",
       "      <td>38.000000</td>\n",
       "      <td>6800.000000</td>\n",
       "      <td>8100.000000</td>\n",
       "      <td>60.000000</td>\n",
       "      <td>51.000000</td>\n",
       "      <td>1.000000</td>\n",
       "    </tr>\n",
       "    <tr>\n",
       "      <th>max</th>\n",
       "      <td>6249.000000</td>\n",
       "      <td>99750.000000</td>\n",
       "      <td>8.000000</td>\n",
       "      <td>83.000000</td>\n",
       "      <td>88200.000000</td>\n",
       "      <td>90000.000000</td>\n",
       "      <td>192.000000</td>\n",
       "      <td>177.000000</td>\n",
       "      <td>1.000000</td>\n",
       "    </tr>\n",
       "  </tbody>\n",
       "</table>\n",
       "</div>"
      ],
      "text/plain": [
       "           loan_id  monthly_income  origination_score_band   TOB_months  \\\n",
       "count  5783.000000     5406.000000             5783.000000  5406.000000   \n",
       "mean   3625.042711    14314.372919                3.904029    28.385683   \n",
       "std    1516.292643    13799.514988                1.490877    16.357494   \n",
       "min    1000.000000      750.000000                1.000000     6.000000   \n",
       "25%    2310.500000     6000.000000                3.000000    17.000000   \n",
       "50%    3623.000000     9750.000000                4.000000    24.000000   \n",
       "75%    4934.500000    17250.000000                5.000000    38.000000   \n",
       "max    6249.000000    99750.000000                8.000000    83.000000   \n",
       "\n",
       "       closing_principal_balance  original_loan_amount  original_loan_term  \\\n",
       "count                5406.000000           5406.000000         5783.000000   \n",
       "mean                 5714.391417           6630.701073           62.023517   \n",
       "std                  7837.483534           8491.265603           23.774170   \n",
       "min                   100.000000            100.000000           12.000000   \n",
       "25%                  1380.000000           1800.000000           60.000000   \n",
       "50%                  3000.000000           3750.000000           60.000000   \n",
       "75%                  6800.000000           8100.000000           60.000000   \n",
       "max                 88200.000000          90000.000000          192.000000   \n",
       "\n",
       "       remaining_loan_term       target  \n",
       "count          5783.000000  5783.000000  \n",
       "mean             39.618364     0.302092  \n",
       "std              25.004423     0.459205  \n",
       "min               0.000000     0.000000  \n",
       "25%              23.000000     0.000000  \n",
       "50%              40.000000     0.000000  \n",
       "75%              51.000000     1.000000  \n",
       "max             177.000000     1.000000  "
      ]
     },
     "execution_count": 5,
     "metadata": {},
     "output_type": "execute_result"
    }
   ],
   "source": [
    "df.describe()"
   ]
  },
  {
   "cell_type": "code",
   "execution_count": 6,
   "id": "07c2bcfe",
   "metadata": {},
   "outputs": [
    {
     "data": {
      "text/plain": [
       "<bound method DataFrame.info of       loan_id  monthly_income  origination_score_band  TOB_months  \\\n",
       "0        1000          6000.0                       5        83.0   \n",
       "1        1001         39000.0                       5        82.0   \n",
       "2        1002         18000.0                       5        78.0   \n",
       "3        1003         23250.0                       3        76.0   \n",
       "4        1004         12000.0                       3        74.0   \n",
       "...       ...             ...                     ...         ...   \n",
       "5778     6245          8250.0                       4         6.0   \n",
       "5779     6246          2250.0                       5         6.0   \n",
       "5780     6247          3750.0                       5         6.0   \n",
       "5781     6248          9750.0                       7         6.0   \n",
       "5782     6249          2250.0                       6         6.0   \n",
       "\n",
       "      closing_principal_balance  original_loan_amount product  \\\n",
       "0                         300.0                1800.0       B   \n",
       "1                        7200.0               11700.0       B   \n",
       "2                        2700.0                5400.0       B   \n",
       "3                        3900.0                6900.0       B   \n",
       "4                        2100.0                3600.0       B   \n",
       "...                         ...                   ...     ...   \n",
       "5778                     6000.0                6000.0       A   \n",
       "5779                     1500.0                1500.0       C   \n",
       "5780                     3000.0                3000.0       D   \n",
       "5781                     7500.0                7500.0       D   \n",
       "5782                     1500.0                1500.0       C   \n",
       "\n",
       "      original_loan_term  remaining_loan_term delq_history  target  \n",
       "0                     24                    5  0,0,0,0,0,0       0  \n",
       "1                     60                   42  0,1,0,0,0,0       0  \n",
       "2                     60                   46  0,0,1,0,0,0       0  \n",
       "3                     60                   48  1,1,0,1,0,0       1  \n",
       "4                     60                   50  1,0,0,0,0,0       0  \n",
       "...                  ...                  ...          ...     ...  \n",
       "5778                  36                   35  0,0,0,0,0,0       0  \n",
       "5779                  12                   11  0,0,0,0,0,0       0  \n",
       "5780                  60                   65  0,0,0,0,0,0       0  \n",
       "5781                  60                   65  0,0,0,0,0,0       1  \n",
       "5782                  36                   35  0,0,0,0,0,0       0  \n",
       "\n",
       "[5783 rows x 11 columns]>"
      ]
     },
     "execution_count": 6,
     "metadata": {},
     "output_type": "execute_result"
    }
   ],
   "source": [
    "df.info"
   ]
  },
  {
   "cell_type": "code",
   "execution_count": 7,
   "id": "39bdcf56",
   "metadata": {},
   "outputs": [
    {
     "data": {
      "text/plain": [
       "(5783, 11)"
      ]
     },
     "execution_count": 7,
     "metadata": {},
     "output_type": "execute_result"
    }
   ],
   "source": [
    "df.shape"
   ]
  },
  {
   "cell_type": "code",
   "execution_count": 8,
   "id": "37084f6c",
   "metadata": {},
   "outputs": [
    {
     "data": {
      "text/plain": [
       "Index(['loan_id', 'monthly_income', 'origination_score_band', 'TOB_months',\n",
       "       'closing_principal_balance', 'original_loan_amount', 'product',\n",
       "       'original_loan_term', 'remaining_loan_term', 'delq_history', 'target'],\n",
       "      dtype='object')"
      ]
     },
     "execution_count": 8,
     "metadata": {},
     "output_type": "execute_result"
    }
   ],
   "source": [
    "df.keys()"
   ]
  },
  {
   "cell_type": "markdown",
   "id": "5aa70ff5",
   "metadata": {},
   "source": [
    "## 3.0 Cleaning Data"
   ]
  },
  {
   "cell_type": "code",
   "execution_count": 9,
   "id": "e6799110",
   "metadata": {},
   "outputs": [],
   "source": [
    "# Checking for outliers, null vales, duplicates, and drop unnecessary columns"
   ]
  },
  {
   "cell_type": "code",
   "execution_count": 10,
   "id": "465af312",
   "metadata": {},
   "outputs": [
    {
     "data": {
      "text/plain": [
       "loan_id                        0\n",
       "monthly_income               377\n",
       "origination_score_band         0\n",
       "TOB_months                   377\n",
       "closing_principal_balance    377\n",
       "original_loan_amount         377\n",
       "product                        0\n",
       "original_loan_term             0\n",
       "remaining_loan_term            0\n",
       "delq_history                 377\n",
       "target                         0\n",
       "dtype: int64"
      ]
     },
     "execution_count": 10,
     "metadata": {},
     "output_type": "execute_result"
    }
   ],
   "source": [
    "#Checking for rows containing null or missing values\n",
    "df.isnull().sum()"
   ]
  },
  {
   "cell_type": "code",
   "execution_count": 11,
   "id": "27bf5b2d",
   "metadata": {},
   "outputs": [],
   "source": [
    "# Removing rows containing null or missing values\n",
    "df = df.dropna()"
   ]
  },
  {
   "cell_type": "code",
   "execution_count": 12,
   "id": "3ef7edf7",
   "metadata": {},
   "outputs": [
    {
     "data": {
      "text/plain": [
       "loan_id                      0\n",
       "monthly_income               0\n",
       "origination_score_band       0\n",
       "TOB_months                   0\n",
       "closing_principal_balance    0\n",
       "original_loan_amount         0\n",
       "product                      0\n",
       "original_loan_term           0\n",
       "remaining_loan_term          0\n",
       "delq_history                 0\n",
       "target                       0\n",
       "dtype: int64"
      ]
     },
     "execution_count": 12,
     "metadata": {},
     "output_type": "execute_result"
    }
   ],
   "source": [
    "# Checking to verify that there are no null or missing values\n",
    "df.isnull().sum()"
   ]
  },
  {
   "cell_type": "code",
   "execution_count": 13,
   "id": "6a2100ce",
   "metadata": {},
   "outputs": [
    {
     "data": {
      "text/plain": [
       "533"
      ]
     },
     "execution_count": 13,
     "metadata": {},
     "output_type": "execute_result"
    }
   ],
   "source": [
    "#Checking for the number of of duplicated rows\n",
    "df.duplicated().sum()"
   ]
  },
  {
   "cell_type": "code",
   "execution_count": 14,
   "id": "3dc9fc8a",
   "metadata": {},
   "outputs": [],
   "source": [
    "# Removing rows containing duplicates values\n",
    "df = df.drop_duplicates(keep='first')"
   ]
  },
  {
   "cell_type": "code",
   "execution_count": 15,
   "id": "5f26a58c",
   "metadata": {},
   "outputs": [
    {
     "data": {
      "text/plain": [
       "0"
      ]
     },
     "execution_count": 15,
     "metadata": {},
     "output_type": "execute_result"
    }
   ],
   "source": [
    "# Checking to verify that there are no duplicated values\n",
    "df.duplicated().sum()"
   ]
  },
  {
   "cell_type": "code",
   "execution_count": 16,
   "id": "b3cd0832",
   "metadata": {},
   "outputs": [
    {
     "data": {
      "text/plain": [
       "1"
      ]
     },
     "execution_count": 16,
     "metadata": {},
     "output_type": "execute_result"
    }
   ],
   "source": [
    "# Checking to verify that there all rows have unique values\n",
    "df.duplicated().nunique()"
   ]
  },
  {
   "cell_type": "code",
   "execution_count": 17,
   "id": "91fa23c2",
   "metadata": {},
   "outputs": [],
   "source": [
    "# Dropping columns not needed\n",
    "df = df.drop(columns=['loan_id','delq_history'])"
   ]
  },
  {
   "cell_type": "code",
   "execution_count": 18,
   "id": "9da980ef",
   "metadata": {},
   "outputs": [
    {
     "data": {
      "text/html": [
       "<div>\n",
       "<style scoped>\n",
       "    .dataframe tbody tr th:only-of-type {\n",
       "        vertical-align: middle;\n",
       "    }\n",
       "\n",
       "    .dataframe tbody tr th {\n",
       "        vertical-align: top;\n",
       "    }\n",
       "\n",
       "    .dataframe thead th {\n",
       "        text-align: right;\n",
       "    }\n",
       "</style>\n",
       "<table border=\"1\" class=\"dataframe\">\n",
       "  <thead>\n",
       "    <tr style=\"text-align: right;\">\n",
       "      <th></th>\n",
       "      <th>monthly_income</th>\n",
       "      <th>origination_score_band</th>\n",
       "      <th>TOB_months</th>\n",
       "      <th>closing_principal_balance</th>\n",
       "      <th>original_loan_amount</th>\n",
       "      <th>product</th>\n",
       "      <th>original_loan_term</th>\n",
       "      <th>remaining_loan_term</th>\n",
       "      <th>target</th>\n",
       "    </tr>\n",
       "  </thead>\n",
       "  <tbody>\n",
       "    <tr>\n",
       "      <th>0</th>\n",
       "      <td>6000.0</td>\n",
       "      <td>5</td>\n",
       "      <td>83.0</td>\n",
       "      <td>300.0</td>\n",
       "      <td>1800.0</td>\n",
       "      <td>B</td>\n",
       "      <td>24</td>\n",
       "      <td>5</td>\n",
       "      <td>0</td>\n",
       "    </tr>\n",
       "    <tr>\n",
       "      <th>1</th>\n",
       "      <td>39000.0</td>\n",
       "      <td>5</td>\n",
       "      <td>82.0</td>\n",
       "      <td>7200.0</td>\n",
       "      <td>11700.0</td>\n",
       "      <td>B</td>\n",
       "      <td>60</td>\n",
       "      <td>42</td>\n",
       "      <td>0</td>\n",
       "    </tr>\n",
       "    <tr>\n",
       "      <th>2</th>\n",
       "      <td>18000.0</td>\n",
       "      <td>5</td>\n",
       "      <td>78.0</td>\n",
       "      <td>2700.0</td>\n",
       "      <td>5400.0</td>\n",
       "      <td>B</td>\n",
       "      <td>60</td>\n",
       "      <td>46</td>\n",
       "      <td>0</td>\n",
       "    </tr>\n",
       "    <tr>\n",
       "      <th>3</th>\n",
       "      <td>23250.0</td>\n",
       "      <td>3</td>\n",
       "      <td>76.0</td>\n",
       "      <td>3900.0</td>\n",
       "      <td>6900.0</td>\n",
       "      <td>B</td>\n",
       "      <td>60</td>\n",
       "      <td>48</td>\n",
       "      <td>1</td>\n",
       "    </tr>\n",
       "    <tr>\n",
       "      <th>4</th>\n",
       "      <td>12000.0</td>\n",
       "      <td>3</td>\n",
       "      <td>74.0</td>\n",
       "      <td>2100.0</td>\n",
       "      <td>3600.0</td>\n",
       "      <td>B</td>\n",
       "      <td>60</td>\n",
       "      <td>50</td>\n",
       "      <td>0</td>\n",
       "    </tr>\n",
       "    <tr>\n",
       "      <th>...</th>\n",
       "      <td>...</td>\n",
       "      <td>...</td>\n",
       "      <td>...</td>\n",
       "      <td>...</td>\n",
       "      <td>...</td>\n",
       "      <td>...</td>\n",
       "      <td>...</td>\n",
       "      <td>...</td>\n",
       "      <td>...</td>\n",
       "    </tr>\n",
       "    <tr>\n",
       "      <th>5778</th>\n",
       "      <td>8250.0</td>\n",
       "      <td>4</td>\n",
       "      <td>6.0</td>\n",
       "      <td>6000.0</td>\n",
       "      <td>6000.0</td>\n",
       "      <td>A</td>\n",
       "      <td>36</td>\n",
       "      <td>35</td>\n",
       "      <td>0</td>\n",
       "    </tr>\n",
       "    <tr>\n",
       "      <th>5779</th>\n",
       "      <td>2250.0</td>\n",
       "      <td>5</td>\n",
       "      <td>6.0</td>\n",
       "      <td>1500.0</td>\n",
       "      <td>1500.0</td>\n",
       "      <td>C</td>\n",
       "      <td>12</td>\n",
       "      <td>11</td>\n",
       "      <td>0</td>\n",
       "    </tr>\n",
       "    <tr>\n",
       "      <th>5780</th>\n",
       "      <td>3750.0</td>\n",
       "      <td>5</td>\n",
       "      <td>6.0</td>\n",
       "      <td>3000.0</td>\n",
       "      <td>3000.0</td>\n",
       "      <td>D</td>\n",
       "      <td>60</td>\n",
       "      <td>65</td>\n",
       "      <td>0</td>\n",
       "    </tr>\n",
       "    <tr>\n",
       "      <th>5781</th>\n",
       "      <td>9750.0</td>\n",
       "      <td>7</td>\n",
       "      <td>6.0</td>\n",
       "      <td>7500.0</td>\n",
       "      <td>7500.0</td>\n",
       "      <td>D</td>\n",
       "      <td>60</td>\n",
       "      <td>65</td>\n",
       "      <td>1</td>\n",
       "    </tr>\n",
       "    <tr>\n",
       "      <th>5782</th>\n",
       "      <td>2250.0</td>\n",
       "      <td>6</td>\n",
       "      <td>6.0</td>\n",
       "      <td>1500.0</td>\n",
       "      <td>1500.0</td>\n",
       "      <td>C</td>\n",
       "      <td>36</td>\n",
       "      <td>35</td>\n",
       "      <td>0</td>\n",
       "    </tr>\n",
       "  </tbody>\n",
       "</table>\n",
       "<p>4873 rows × 9 columns</p>\n",
       "</div>"
      ],
      "text/plain": [
       "      monthly_income  origination_score_band  TOB_months  \\\n",
       "0             6000.0                       5        83.0   \n",
       "1            39000.0                       5        82.0   \n",
       "2            18000.0                       5        78.0   \n",
       "3            23250.0                       3        76.0   \n",
       "4            12000.0                       3        74.0   \n",
       "...              ...                     ...         ...   \n",
       "5778          8250.0                       4         6.0   \n",
       "5779          2250.0                       5         6.0   \n",
       "5780          3750.0                       5         6.0   \n",
       "5781          9750.0                       7         6.0   \n",
       "5782          2250.0                       6         6.0   \n",
       "\n",
       "      closing_principal_balance  original_loan_amount product  \\\n",
       "0                         300.0                1800.0       B   \n",
       "1                        7200.0               11700.0       B   \n",
       "2                        2700.0                5400.0       B   \n",
       "3                        3900.0                6900.0       B   \n",
       "4                        2100.0                3600.0       B   \n",
       "...                         ...                   ...     ...   \n",
       "5778                     6000.0                6000.0       A   \n",
       "5779                     1500.0                1500.0       C   \n",
       "5780                     3000.0                3000.0       D   \n",
       "5781                     7500.0                7500.0       D   \n",
       "5782                     1500.0                1500.0       C   \n",
       "\n",
       "      original_loan_term  remaining_loan_term  target  \n",
       "0                     24                    5       0  \n",
       "1                     60                   42       0  \n",
       "2                     60                   46       0  \n",
       "3                     60                   48       1  \n",
       "4                     60                   50       0  \n",
       "...                  ...                  ...     ...  \n",
       "5778                  36                   35       0  \n",
       "5779                  12                   11       0  \n",
       "5780                  60                   65       0  \n",
       "5781                  60                   65       1  \n",
       "5782                  36                   35       0  \n",
       "\n",
       "[4873 rows x 9 columns]"
      ]
     },
     "execution_count": 18,
     "metadata": {},
     "output_type": "execute_result"
    }
   ],
   "source": [
    "df"
   ]
  },
  {
   "cell_type": "code",
   "execution_count": 19,
   "id": "49ae3dc9",
   "metadata": {},
   "outputs": [],
   "source": [
    "# Deriving columns that will assist our features in prediction"
   ]
  },
  {
   "cell_type": "code",
   "execution_count": 20,
   "id": "ae756a6e",
   "metadata": {},
   "outputs": [],
   "source": [
    "# The debt-to-income ratio is a measure of a borrower's financial stability.\n",
    "# It is calculated by dividing the monthly debt by their monthly income.\n",
    "\n",
    "df['debt_to_income'] = (df['closing_principal_balance']/df['monthly_income']).round(2)"
   ]
  },
  {
   "cell_type": "code",
   "execution_count": 21,
   "id": "1e34ba9b",
   "metadata": {},
   "outputs": [],
   "source": [
    "# The interest rate on the loan may affect the risk of default.\n",
    "# The higher the interest rate, the more expensive the loan.\n",
    "# Therefore, increasing the risk of default.\n",
    "\n",
    "# Create a lambda function for calculating the interest\n",
    "calculate_interest_rate = lambda row: (row['closing_principal_balance'] / row['original_loan_amount']) ** (1/row['original_loan_term']) - 1"
   ]
  },
  {
   "cell_type": "code",
   "execution_count": 22,
   "id": "b5bd2f25",
   "metadata": {},
   "outputs": [],
   "source": [
    "# Use the apply() function to apply the lambda function to each row of the DataFrame\n",
    "df['interest_rate'] = df.apply(calculate_interest_rate, axis=1)"
   ]
  },
  {
   "cell_type": "code",
   "execution_count": 23,
   "id": "d3dc3294",
   "metadata": {},
   "outputs": [],
   "source": [
    "df['interest_rate'] = ((df['interest_rate']*100)*-1).round(2)"
   ]
  },
  {
   "cell_type": "code",
   "execution_count": 24,
   "id": "1137eef2",
   "metadata": {},
   "outputs": [
    {
     "data": {
      "text/plain": [
       "monthly_income               float64\n",
       "origination_score_band         int64\n",
       "TOB_months                   float64\n",
       "closing_principal_balance    float64\n",
       "original_loan_amount         float64\n",
       "product                       object\n",
       "original_loan_term             int64\n",
       "remaining_loan_term            int64\n",
       "target                         int64\n",
       "debt_to_income               float64\n",
       "interest_rate                float64\n",
       "dtype: object"
      ]
     },
     "execution_count": 24,
     "metadata": {},
     "output_type": "execute_result"
    }
   ],
   "source": [
    "df.dtypes"
   ]
  },
  {
   "cell_type": "code",
   "execution_count": 25,
   "id": "bdc29956",
   "metadata": {},
   "outputs": [],
   "source": [
    "#Convert object data types with an encoder to enable inclusion a independent features"
   ]
  },
  {
   "cell_type": "code",
   "execution_count": 26,
   "id": "8f5e46ba",
   "metadata": {},
   "outputs": [],
   "source": [
    "# from sklearn.preprocessing import LabelEncoder\n",
    "# Create a label encoder for each categorical feature\n",
    "# le1 = LabelEncoder()\n",
    "\n",
    "# Encode the categorical features\n",
    "# df['product'] = le1.fit_transform(df['product'])\n",
    "\n",
    "# Label encoder did not predict the best outcome, so I coverted with ordinal "
   ]
  },
  {
   "cell_type": "code",
   "execution_count": 27,
   "id": "d8ce9e1a",
   "metadata": {},
   "outputs": [],
   "source": [
    "# Create an ordinal encoder for each categorical feature\n",
    "oe1 = OrdinalEncoder()\n",
    "\n",
    "# Encode the categorical features\n",
    "df['product'] = oe1.fit_transform(df[['product']])\n"
   ]
  },
  {
   "cell_type": "code",
   "execution_count": 28,
   "id": "4106e179",
   "metadata": {},
   "outputs": [],
   "source": [
    "#Save the derived columns into our dataframe\n",
    "df = df"
   ]
  },
  {
   "cell_type": "code",
   "execution_count": 29,
   "id": "8128386b",
   "metadata": {},
   "outputs": [
    {
     "data": {
      "text/plain": [
       "monthly_income               float64\n",
       "origination_score_band         int64\n",
       "TOB_months                   float64\n",
       "closing_principal_balance    float64\n",
       "original_loan_amount         float64\n",
       "product                      float64\n",
       "original_loan_term             int64\n",
       "remaining_loan_term            int64\n",
       "target                         int64\n",
       "debt_to_income               float64\n",
       "interest_rate                float64\n",
       "dtype: object"
      ]
     },
     "execution_count": 29,
     "metadata": {},
     "output_type": "execute_result"
    }
   ],
   "source": [
    "df.dtypes"
   ]
  },
  {
   "cell_type": "code",
   "execution_count": 30,
   "id": "71082100",
   "metadata": {},
   "outputs": [
    {
     "data": {
      "text/html": [
       "<div>\n",
       "<style scoped>\n",
       "    .dataframe tbody tr th:only-of-type {\n",
       "        vertical-align: middle;\n",
       "    }\n",
       "\n",
       "    .dataframe tbody tr th {\n",
       "        vertical-align: top;\n",
       "    }\n",
       "\n",
       "    .dataframe thead th {\n",
       "        text-align: right;\n",
       "    }\n",
       "</style>\n",
       "<table border=\"1\" class=\"dataframe\">\n",
       "  <thead>\n",
       "    <tr style=\"text-align: right;\">\n",
       "      <th></th>\n",
       "      <th>monthly_income</th>\n",
       "      <th>origination_score_band</th>\n",
       "      <th>TOB_months</th>\n",
       "      <th>closing_principal_balance</th>\n",
       "      <th>original_loan_amount</th>\n",
       "      <th>product</th>\n",
       "      <th>original_loan_term</th>\n",
       "      <th>remaining_loan_term</th>\n",
       "      <th>target</th>\n",
       "      <th>debt_to_income</th>\n",
       "      <th>interest_rate</th>\n",
       "    </tr>\n",
       "  </thead>\n",
       "  <tbody>\n",
       "    <tr>\n",
       "      <th>0</th>\n",
       "      <td>6000.0</td>\n",
       "      <td>5</td>\n",
       "      <td>83.0</td>\n",
       "      <td>300.0</td>\n",
       "      <td>1800.0</td>\n",
       "      <td>1.0</td>\n",
       "      <td>24</td>\n",
       "      <td>5</td>\n",
       "      <td>0</td>\n",
       "      <td>0.05</td>\n",
       "      <td>7.19</td>\n",
       "    </tr>\n",
       "    <tr>\n",
       "      <th>1</th>\n",
       "      <td>39000.0</td>\n",
       "      <td>5</td>\n",
       "      <td>82.0</td>\n",
       "      <td>7200.0</td>\n",
       "      <td>11700.0</td>\n",
       "      <td>1.0</td>\n",
       "      <td>60</td>\n",
       "      <td>42</td>\n",
       "      <td>0</td>\n",
       "      <td>0.18</td>\n",
       "      <td>0.81</td>\n",
       "    </tr>\n",
       "    <tr>\n",
       "      <th>2</th>\n",
       "      <td>18000.0</td>\n",
       "      <td>5</td>\n",
       "      <td>78.0</td>\n",
       "      <td>2700.0</td>\n",
       "      <td>5400.0</td>\n",
       "      <td>1.0</td>\n",
       "      <td>60</td>\n",
       "      <td>46</td>\n",
       "      <td>0</td>\n",
       "      <td>0.15</td>\n",
       "      <td>1.15</td>\n",
       "    </tr>\n",
       "    <tr>\n",
       "      <th>3</th>\n",
       "      <td>23250.0</td>\n",
       "      <td>3</td>\n",
       "      <td>76.0</td>\n",
       "      <td>3900.0</td>\n",
       "      <td>6900.0</td>\n",
       "      <td>1.0</td>\n",
       "      <td>60</td>\n",
       "      <td>48</td>\n",
       "      <td>1</td>\n",
       "      <td>0.17</td>\n",
       "      <td>0.95</td>\n",
       "    </tr>\n",
       "    <tr>\n",
       "      <th>4</th>\n",
       "      <td>12000.0</td>\n",
       "      <td>3</td>\n",
       "      <td>74.0</td>\n",
       "      <td>2100.0</td>\n",
       "      <td>3600.0</td>\n",
       "      <td>1.0</td>\n",
       "      <td>60</td>\n",
       "      <td>50</td>\n",
       "      <td>0</td>\n",
       "      <td>0.18</td>\n",
       "      <td>0.89</td>\n",
       "    </tr>\n",
       "    <tr>\n",
       "      <th>5</th>\n",
       "      <td>60000.0</td>\n",
       "      <td>5</td>\n",
       "      <td>72.0</td>\n",
       "      <td>13500.0</td>\n",
       "      <td>18000.0</td>\n",
       "      <td>1.0</td>\n",
       "      <td>60</td>\n",
       "      <td>52</td>\n",
       "      <td>0</td>\n",
       "      <td>0.22</td>\n",
       "      <td>0.48</td>\n",
       "    </tr>\n",
       "    <tr>\n",
       "      <th>6</th>\n",
       "      <td>15750.0</td>\n",
       "      <td>3</td>\n",
       "      <td>71.0</td>\n",
       "      <td>2700.0</td>\n",
       "      <td>4800.0</td>\n",
       "      <td>1.0</td>\n",
       "      <td>59</td>\n",
       "      <td>52</td>\n",
       "      <td>0</td>\n",
       "      <td>0.17</td>\n",
       "      <td>0.97</td>\n",
       "    </tr>\n",
       "    <tr>\n",
       "      <th>7</th>\n",
       "      <td>51000.0</td>\n",
       "      <td>3</td>\n",
       "      <td>70.0</td>\n",
       "      <td>12600.0</td>\n",
       "      <td>15300.0</td>\n",
       "      <td>1.0</td>\n",
       "      <td>60</td>\n",
       "      <td>54</td>\n",
       "      <td>1</td>\n",
       "      <td>0.25</td>\n",
       "      <td>0.32</td>\n",
       "    </tr>\n",
       "    <tr>\n",
       "      <th>8</th>\n",
       "      <td>6000.0</td>\n",
       "      <td>4</td>\n",
       "      <td>68.0</td>\n",
       "      <td>600.0</td>\n",
       "      <td>1800.0</td>\n",
       "      <td>1.0</td>\n",
       "      <td>23</td>\n",
       "      <td>19</td>\n",
       "      <td>1</td>\n",
       "      <td>0.10</td>\n",
       "      <td>4.66</td>\n",
       "    </tr>\n",
       "    <tr>\n",
       "      <th>9</th>\n",
       "      <td>26250.0</td>\n",
       "      <td>5</td>\n",
       "      <td>68.0</td>\n",
       "      <td>4800.0</td>\n",
       "      <td>7800.0</td>\n",
       "      <td>1.0</td>\n",
       "      <td>60</td>\n",
       "      <td>56</td>\n",
       "      <td>1</td>\n",
       "      <td>0.18</td>\n",
       "      <td>0.81</td>\n",
       "    </tr>\n",
       "    <tr>\n",
       "      <th>10</th>\n",
       "      <td>15000.0</td>\n",
       "      <td>4</td>\n",
       "      <td>66.0</td>\n",
       "      <td>2700.0</td>\n",
       "      <td>4500.0</td>\n",
       "      <td>1.0</td>\n",
       "      <td>60</td>\n",
       "      <td>58</td>\n",
       "      <td>0</td>\n",
       "      <td>0.18</td>\n",
       "      <td>0.85</td>\n",
       "    </tr>\n",
       "    <tr>\n",
       "      <th>12</th>\n",
       "      <td>20250.0</td>\n",
       "      <td>6</td>\n",
       "      <td>64.0</td>\n",
       "      <td>3600.0</td>\n",
       "      <td>6000.0</td>\n",
       "      <td>1.0</td>\n",
       "      <td>60</td>\n",
       "      <td>0</td>\n",
       "      <td>1</td>\n",
       "      <td>0.18</td>\n",
       "      <td>0.85</td>\n",
       "    </tr>\n",
       "    <tr>\n",
       "      <th>13</th>\n",
       "      <td>20250.0</td>\n",
       "      <td>4</td>\n",
       "      <td>64.0</td>\n",
       "      <td>5100.0</td>\n",
       "      <td>6000.0</td>\n",
       "      <td>1.0</td>\n",
       "      <td>60</td>\n",
       "      <td>0</td>\n",
       "      <td>0</td>\n",
       "      <td>0.25</td>\n",
       "      <td>0.27</td>\n",
       "    </tr>\n",
       "    <tr>\n",
       "      <th>14</th>\n",
       "      <td>12750.0</td>\n",
       "      <td>4</td>\n",
       "      <td>64.0</td>\n",
       "      <td>2400.0</td>\n",
       "      <td>3900.0</td>\n",
       "      <td>1.0</td>\n",
       "      <td>60</td>\n",
       "      <td>0</td>\n",
       "      <td>0</td>\n",
       "      <td>0.19</td>\n",
       "      <td>0.81</td>\n",
       "    </tr>\n",
       "    <tr>\n",
       "      <th>15</th>\n",
       "      <td>33000.0</td>\n",
       "      <td>3</td>\n",
       "      <td>63.0</td>\n",
       "      <td>6900.0</td>\n",
       "      <td>9900.0</td>\n",
       "      <td>1.0</td>\n",
       "      <td>60</td>\n",
       "      <td>1</td>\n",
       "      <td>0</td>\n",
       "      <td>0.21</td>\n",
       "      <td>0.60</td>\n",
       "    </tr>\n",
       "  </tbody>\n",
       "</table>\n",
       "</div>"
      ],
      "text/plain": [
       "    monthly_income  origination_score_band  TOB_months  \\\n",
       "0           6000.0                       5        83.0   \n",
       "1          39000.0                       5        82.0   \n",
       "2          18000.0                       5        78.0   \n",
       "3          23250.0                       3        76.0   \n",
       "4          12000.0                       3        74.0   \n",
       "5          60000.0                       5        72.0   \n",
       "6          15750.0                       3        71.0   \n",
       "7          51000.0                       3        70.0   \n",
       "8           6000.0                       4        68.0   \n",
       "9          26250.0                       5        68.0   \n",
       "10         15000.0                       4        66.0   \n",
       "12         20250.0                       6        64.0   \n",
       "13         20250.0                       4        64.0   \n",
       "14         12750.0                       4        64.0   \n",
       "15         33000.0                       3        63.0   \n",
       "\n",
       "    closing_principal_balance  original_loan_amount  product  \\\n",
       "0                       300.0                1800.0      1.0   \n",
       "1                      7200.0               11700.0      1.0   \n",
       "2                      2700.0                5400.0      1.0   \n",
       "3                      3900.0                6900.0      1.0   \n",
       "4                      2100.0                3600.0      1.0   \n",
       "5                     13500.0               18000.0      1.0   \n",
       "6                      2700.0                4800.0      1.0   \n",
       "7                     12600.0               15300.0      1.0   \n",
       "8                       600.0                1800.0      1.0   \n",
       "9                      4800.0                7800.0      1.0   \n",
       "10                     2700.0                4500.0      1.0   \n",
       "12                     3600.0                6000.0      1.0   \n",
       "13                     5100.0                6000.0      1.0   \n",
       "14                     2400.0                3900.0      1.0   \n",
       "15                     6900.0                9900.0      1.0   \n",
       "\n",
       "    original_loan_term  remaining_loan_term  target  debt_to_income  \\\n",
       "0                   24                    5       0            0.05   \n",
       "1                   60                   42       0            0.18   \n",
       "2                   60                   46       0            0.15   \n",
       "3                   60                   48       1            0.17   \n",
       "4                   60                   50       0            0.18   \n",
       "5                   60                   52       0            0.22   \n",
       "6                   59                   52       0            0.17   \n",
       "7                   60                   54       1            0.25   \n",
       "8                   23                   19       1            0.10   \n",
       "9                   60                   56       1            0.18   \n",
       "10                  60                   58       0            0.18   \n",
       "12                  60                    0       1            0.18   \n",
       "13                  60                    0       0            0.25   \n",
       "14                  60                    0       0            0.19   \n",
       "15                  60                    1       0            0.21   \n",
       "\n",
       "    interest_rate  \n",
       "0            7.19  \n",
       "1            0.81  \n",
       "2            1.15  \n",
       "3            0.95  \n",
       "4            0.89  \n",
       "5            0.48  \n",
       "6            0.97  \n",
       "7            0.32  \n",
       "8            4.66  \n",
       "9            0.81  \n",
       "10           0.85  \n",
       "12           0.85  \n",
       "13           0.27  \n",
       "14           0.81  \n",
       "15           0.60  "
      ]
     },
     "execution_count": 30,
     "metadata": {},
     "output_type": "execute_result"
    }
   ],
   "source": [
    "df.head(15)"
   ]
  },
  {
   "cell_type": "code",
   "execution_count": 31,
   "id": "374c004a",
   "metadata": {},
   "outputs": [
    {
     "data": {
      "text/html": [
       "<div>\n",
       "<style scoped>\n",
       "    .dataframe tbody tr th:only-of-type {\n",
       "        vertical-align: middle;\n",
       "    }\n",
       "\n",
       "    .dataframe tbody tr th {\n",
       "        vertical-align: top;\n",
       "    }\n",
       "\n",
       "    .dataframe thead th {\n",
       "        text-align: right;\n",
       "    }\n",
       "</style>\n",
       "<table border=\"1\" class=\"dataframe\">\n",
       "  <thead>\n",
       "    <tr style=\"text-align: right;\">\n",
       "      <th></th>\n",
       "      <th>monthly_income</th>\n",
       "      <th>origination_score_band</th>\n",
       "      <th>TOB_months</th>\n",
       "      <th>closing_principal_balance</th>\n",
       "      <th>original_loan_amount</th>\n",
       "      <th>product</th>\n",
       "      <th>original_loan_term</th>\n",
       "      <th>remaining_loan_term</th>\n",
       "      <th>target</th>\n",
       "      <th>debt_to_income</th>\n",
       "      <th>interest_rate</th>\n",
       "    </tr>\n",
       "  </thead>\n",
       "  <tbody>\n",
       "    <tr>\n",
       "      <th>count</th>\n",
       "      <td>4873.000000</td>\n",
       "      <td>4873.000000</td>\n",
       "      <td>4873.000000</td>\n",
       "      <td>4873.000000</td>\n",
       "      <td>4873.000000</td>\n",
       "      <td>4873.000000</td>\n",
       "      <td>4873.000000</td>\n",
       "      <td>4873.000000</td>\n",
       "      <td>4873.000000</td>\n",
       "      <td>4873.000000</td>\n",
       "      <td>4873.000000</td>\n",
       "    </tr>\n",
       "    <tr>\n",
       "      <th>mean</th>\n",
       "      <td>14414.836856</td>\n",
       "      <td>3.898215</td>\n",
       "      <td>28.397086</td>\n",
       "      <td>5764.565976</td>\n",
       "      <td>6685.485327</td>\n",
       "      <td>0.759286</td>\n",
       "      <td>62.114098</td>\n",
       "      <td>39.628360</td>\n",
       "      <td>0.299610</td>\n",
       "      <td>0.390780</td>\n",
       "      <td>0.449795</td>\n",
       "    </tr>\n",
       "    <tr>\n",
       "      <th>std</th>\n",
       "      <td>13946.848379</td>\n",
       "      <td>1.492559</td>\n",
       "      <td>16.419510</td>\n",
       "      <td>7958.981479</td>\n",
       "      <td>8612.775117</td>\n",
       "      <td>0.955135</td>\n",
       "      <td>23.823088</td>\n",
       "      <td>25.101886</td>\n",
       "      <td>0.458134</td>\n",
       "      <td>0.262396</td>\n",
       "      <td>0.869720</td>\n",
       "    </tr>\n",
       "    <tr>\n",
       "      <th>min</th>\n",
       "      <td>750.000000</td>\n",
       "      <td>1.000000</td>\n",
       "      <td>6.000000</td>\n",
       "      <td>100.000000</td>\n",
       "      <td>100.000000</td>\n",
       "      <td>0.000000</td>\n",
       "      <td>12.000000</td>\n",
       "      <td>0.000000</td>\n",
       "      <td>0.000000</td>\n",
       "      <td>0.010000</td>\n",
       "      <td>-0.000000</td>\n",
       "    </tr>\n",
       "    <tr>\n",
       "      <th>25%</th>\n",
       "      <td>6000.000000</td>\n",
       "      <td>3.000000</td>\n",
       "      <td>16.000000</td>\n",
       "      <td>1380.000000</td>\n",
       "      <td>1800.000000</td>\n",
       "      <td>0.000000</td>\n",
       "      <td>60.000000</td>\n",
       "      <td>23.000000</td>\n",
       "      <td>0.000000</td>\n",
       "      <td>0.170000</td>\n",
       "      <td>0.000000</td>\n",
       "    </tr>\n",
       "    <tr>\n",
       "      <th>50%</th>\n",
       "      <td>9750.000000</td>\n",
       "      <td>4.000000</td>\n",
       "      <td>24.000000</td>\n",
       "      <td>3220.000000</td>\n",
       "      <td>3800.000000</td>\n",
       "      <td>0.000000</td>\n",
       "      <td>60.000000</td>\n",
       "      <td>40.000000</td>\n",
       "      <td>0.000000</td>\n",
       "      <td>0.290000</td>\n",
       "      <td>0.180000</td>\n",
       "    </tr>\n",
       "    <tr>\n",
       "      <th>75%</th>\n",
       "      <td>18000.000000</td>\n",
       "      <td>5.000000</td>\n",
       "      <td>38.000000</td>\n",
       "      <td>6800.000000</td>\n",
       "      <td>8100.000000</td>\n",
       "      <td>1.000000</td>\n",
       "      <td>60.000000</td>\n",
       "      <td>51.000000</td>\n",
       "      <td>1.000000</td>\n",
       "      <td>0.600000</td>\n",
       "      <td>0.420000</td>\n",
       "    </tr>\n",
       "    <tr>\n",
       "      <th>max</th>\n",
       "      <td>99750.000000</td>\n",
       "      <td>8.000000</td>\n",
       "      <td>83.000000</td>\n",
       "      <td>88200.000000</td>\n",
       "      <td>90000.000000</td>\n",
       "      <td>3.000000</td>\n",
       "      <td>192.000000</td>\n",
       "      <td>177.000000</td>\n",
       "      <td>1.000000</td>\n",
       "      <td>1.200000</td>\n",
       "      <td>7.350000</td>\n",
       "    </tr>\n",
       "  </tbody>\n",
       "</table>\n",
       "</div>"
      ],
      "text/plain": [
       "       monthly_income  origination_score_band   TOB_months  \\\n",
       "count     4873.000000             4873.000000  4873.000000   \n",
       "mean     14414.836856                3.898215    28.397086   \n",
       "std      13946.848379                1.492559    16.419510   \n",
       "min        750.000000                1.000000     6.000000   \n",
       "25%       6000.000000                3.000000    16.000000   \n",
       "50%       9750.000000                4.000000    24.000000   \n",
       "75%      18000.000000                5.000000    38.000000   \n",
       "max      99750.000000                8.000000    83.000000   \n",
       "\n",
       "       closing_principal_balance  original_loan_amount      product  \\\n",
       "count                4873.000000           4873.000000  4873.000000   \n",
       "mean                 5764.565976           6685.485327     0.759286   \n",
       "std                  7958.981479           8612.775117     0.955135   \n",
       "min                   100.000000            100.000000     0.000000   \n",
       "25%                  1380.000000           1800.000000     0.000000   \n",
       "50%                  3220.000000           3800.000000     0.000000   \n",
       "75%                  6800.000000           8100.000000     1.000000   \n",
       "max                 88200.000000          90000.000000     3.000000   \n",
       "\n",
       "       original_loan_term  remaining_loan_term       target  debt_to_income  \\\n",
       "count         4873.000000          4873.000000  4873.000000     4873.000000   \n",
       "mean            62.114098            39.628360     0.299610        0.390780   \n",
       "std             23.823088            25.101886     0.458134        0.262396   \n",
       "min             12.000000             0.000000     0.000000        0.010000   \n",
       "25%             60.000000            23.000000     0.000000        0.170000   \n",
       "50%             60.000000            40.000000     0.000000        0.290000   \n",
       "75%             60.000000            51.000000     1.000000        0.600000   \n",
       "max            192.000000           177.000000     1.000000        1.200000   \n",
       "\n",
       "       interest_rate  \n",
       "count    4873.000000  \n",
       "mean        0.449795  \n",
       "std         0.869720  \n",
       "min        -0.000000  \n",
       "25%         0.000000  \n",
       "50%         0.180000  \n",
       "75%         0.420000  \n",
       "max         7.350000  "
      ]
     },
     "execution_count": 31,
     "metadata": {},
     "output_type": "execute_result"
    }
   ],
   "source": [
    "df.describe()"
   ]
  },
  {
   "cell_type": "code",
   "execution_count": 32,
   "id": "3e3ed29a",
   "metadata": {},
   "outputs": [
    {
     "data": {
      "text/plain": [
       "(4873, 11)"
      ]
     },
     "execution_count": 32,
     "metadata": {},
     "output_type": "execute_result"
    }
   ],
   "source": [
    "#We are therefore, left with 4873 rows and 12 columns\n",
    "df.shape"
   ]
  },
  {
   "cell_type": "markdown",
   "id": "b5e15197",
   "metadata": {},
   "source": [
    "## 4.0 Visualising data"
   ]
  },
  {
   "cell_type": "code",
   "execution_count": 33,
   "id": "182d3961",
   "metadata": {},
   "outputs": [
    {
     "data": {
      "text/html": [
       "<div>\n",
       "<style scoped>\n",
       "    .dataframe tbody tr th:only-of-type {\n",
       "        vertical-align: middle;\n",
       "    }\n",
       "\n",
       "    .dataframe tbody tr th {\n",
       "        vertical-align: top;\n",
       "    }\n",
       "\n",
       "    .dataframe thead th {\n",
       "        text-align: right;\n",
       "    }\n",
       "</style>\n",
       "<table border=\"1\" class=\"dataframe\">\n",
       "  <thead>\n",
       "    <tr style=\"text-align: right;\">\n",
       "      <th></th>\n",
       "      <th>monthly_income</th>\n",
       "      <th>origination_score_band</th>\n",
       "      <th>TOB_months</th>\n",
       "      <th>closing_principal_balance</th>\n",
       "      <th>original_loan_amount</th>\n",
       "      <th>product</th>\n",
       "      <th>original_loan_term</th>\n",
       "      <th>remaining_loan_term</th>\n",
       "      <th>target</th>\n",
       "      <th>debt_to_income</th>\n",
       "      <th>interest_rate</th>\n",
       "    </tr>\n",
       "  </thead>\n",
       "  <tbody>\n",
       "    <tr>\n",
       "      <th>monthly_income</th>\n",
       "      <td>1.000000</td>\n",
       "      <td>0.025765</td>\n",
       "      <td>0.157018</td>\n",
       "      <td>0.750378</td>\n",
       "      <td>0.754162</td>\n",
       "      <td>0.089107</td>\n",
       "      <td>0.034940</td>\n",
       "      <td>-0.016172</td>\n",
       "      <td>-0.049122</td>\n",
       "      <td>0.035608</td>\n",
       "      <td>-0.124201</td>\n",
       "    </tr>\n",
       "    <tr>\n",
       "      <th>origination_score_band</th>\n",
       "      <td>0.025765</td>\n",
       "      <td>1.000000</td>\n",
       "      <td>-0.002932</td>\n",
       "      <td>0.018781</td>\n",
       "      <td>0.017163</td>\n",
       "      <td>-0.073918</td>\n",
       "      <td>-0.001301</td>\n",
       "      <td>-0.015659</td>\n",
       "      <td>0.104942</td>\n",
       "      <td>-0.002150</td>\n",
       "      <td>0.017032</td>\n",
       "    </tr>\n",
       "    <tr>\n",
       "      <th>TOB_months</th>\n",
       "      <td>0.157018</td>\n",
       "      <td>-0.002932</td>\n",
       "      <td>1.000000</td>\n",
       "      <td>0.019371</td>\n",
       "      <td>0.116784</td>\n",
       "      <td>-0.052708</td>\n",
       "      <td>0.020986</td>\n",
       "      <td>-0.442488</td>\n",
       "      <td>0.042655</td>\n",
       "      <td>-0.181777</td>\n",
       "      <td>0.307703</td>\n",
       "    </tr>\n",
       "    <tr>\n",
       "      <th>closing_principal_balance</th>\n",
       "      <td>0.750378</td>\n",
       "      <td>0.018781</td>\n",
       "      <td>0.019371</td>\n",
       "      <td>1.000000</td>\n",
       "      <td>0.981470</td>\n",
       "      <td>0.047965</td>\n",
       "      <td>0.045553</td>\n",
       "      <td>0.042369</td>\n",
       "      <td>-0.038322</td>\n",
       "      <td>0.492609</td>\n",
       "      <td>-0.183086</td>\n",
       "    </tr>\n",
       "    <tr>\n",
       "      <th>original_loan_amount</th>\n",
       "      <td>0.754162</td>\n",
       "      <td>0.017163</td>\n",
       "      <td>0.116784</td>\n",
       "      <td>0.981470</td>\n",
       "      <td>1.000000</td>\n",
       "      <td>0.066453</td>\n",
       "      <td>0.024656</td>\n",
       "      <td>-0.012028</td>\n",
       "      <td>-0.038077</td>\n",
       "      <td>0.467632</td>\n",
       "      <td>-0.094327</td>\n",
       "    </tr>\n",
       "    <tr>\n",
       "      <th>product</th>\n",
       "      <td>0.089107</td>\n",
       "      <td>-0.073918</td>\n",
       "      <td>-0.052708</td>\n",
       "      <td>0.047965</td>\n",
       "      <td>0.066453</td>\n",
       "      <td>1.000000</td>\n",
       "      <td>-0.242616</td>\n",
       "      <td>-0.097474</td>\n",
       "      <td>0.086516</td>\n",
       "      <td>-0.048144</td>\n",
       "      <td>0.132485</td>\n",
       "    </tr>\n",
       "    <tr>\n",
       "      <th>original_loan_term</th>\n",
       "      <td>0.034940</td>\n",
       "      <td>-0.001301</td>\n",
       "      <td>0.020986</td>\n",
       "      <td>0.045553</td>\n",
       "      <td>0.024656</td>\n",
       "      <td>-0.242616</td>\n",
       "      <td>1.000000</td>\n",
       "      <td>0.793162</td>\n",
       "      <td>-0.004111</td>\n",
       "      <td>0.062439</td>\n",
       "      <td>-0.320660</td>\n",
       "    </tr>\n",
       "    <tr>\n",
       "      <th>remaining_loan_term</th>\n",
       "      <td>-0.016172</td>\n",
       "      <td>-0.015659</td>\n",
       "      <td>-0.442488</td>\n",
       "      <td>0.042369</td>\n",
       "      <td>-0.012028</td>\n",
       "      <td>-0.097474</td>\n",
       "      <td>0.793162</td>\n",
       "      <td>1.000000</td>\n",
       "      <td>0.001385</td>\n",
       "      <td>0.145103</td>\n",
       "      <td>-0.391759</td>\n",
       "    </tr>\n",
       "    <tr>\n",
       "      <th>target</th>\n",
       "      <td>-0.049122</td>\n",
       "      <td>0.104942</td>\n",
       "      <td>0.042655</td>\n",
       "      <td>-0.038322</td>\n",
       "      <td>-0.038077</td>\n",
       "      <td>0.086516</td>\n",
       "      <td>-0.004111</td>\n",
       "      <td>0.001385</td>\n",
       "      <td>1.000000</td>\n",
       "      <td>0.007157</td>\n",
       "      <td>-0.037662</td>\n",
       "    </tr>\n",
       "    <tr>\n",
       "      <th>debt_to_income</th>\n",
       "      <td>0.035608</td>\n",
       "      <td>-0.002150</td>\n",
       "      <td>-0.181777</td>\n",
       "      <td>0.492609</td>\n",
       "      <td>0.467632</td>\n",
       "      <td>-0.048144</td>\n",
       "      <td>0.062439</td>\n",
       "      <td>0.145103</td>\n",
       "      <td>0.007157</td>\n",
       "      <td>1.000000</td>\n",
       "      <td>-0.287080</td>\n",
       "    </tr>\n",
       "    <tr>\n",
       "      <th>interest_rate</th>\n",
       "      <td>-0.124201</td>\n",
       "      <td>0.017032</td>\n",
       "      <td>0.307703</td>\n",
       "      <td>-0.183086</td>\n",
       "      <td>-0.094327</td>\n",
       "      <td>0.132485</td>\n",
       "      <td>-0.320660</td>\n",
       "      <td>-0.391759</td>\n",
       "      <td>-0.037662</td>\n",
       "      <td>-0.287080</td>\n",
       "      <td>1.000000</td>\n",
       "    </tr>\n",
       "  </tbody>\n",
       "</table>\n",
       "</div>"
      ],
      "text/plain": [
       "                           monthly_income  origination_score_band  TOB_months  \\\n",
       "monthly_income                   1.000000                0.025765    0.157018   \n",
       "origination_score_band           0.025765                1.000000   -0.002932   \n",
       "TOB_months                       0.157018               -0.002932    1.000000   \n",
       "closing_principal_balance        0.750378                0.018781    0.019371   \n",
       "original_loan_amount             0.754162                0.017163    0.116784   \n",
       "product                          0.089107               -0.073918   -0.052708   \n",
       "original_loan_term               0.034940               -0.001301    0.020986   \n",
       "remaining_loan_term             -0.016172               -0.015659   -0.442488   \n",
       "target                          -0.049122                0.104942    0.042655   \n",
       "debt_to_income                   0.035608               -0.002150   -0.181777   \n",
       "interest_rate                   -0.124201                0.017032    0.307703   \n",
       "\n",
       "                           closing_principal_balance  original_loan_amount  \\\n",
       "monthly_income                              0.750378              0.754162   \n",
       "origination_score_band                      0.018781              0.017163   \n",
       "TOB_months                                  0.019371              0.116784   \n",
       "closing_principal_balance                   1.000000              0.981470   \n",
       "original_loan_amount                        0.981470              1.000000   \n",
       "product                                     0.047965              0.066453   \n",
       "original_loan_term                          0.045553              0.024656   \n",
       "remaining_loan_term                         0.042369             -0.012028   \n",
       "target                                     -0.038322             -0.038077   \n",
       "debt_to_income                              0.492609              0.467632   \n",
       "interest_rate                              -0.183086             -0.094327   \n",
       "\n",
       "                            product  original_loan_term  remaining_loan_term  \\\n",
       "monthly_income             0.089107            0.034940            -0.016172   \n",
       "origination_score_band    -0.073918           -0.001301            -0.015659   \n",
       "TOB_months                -0.052708            0.020986            -0.442488   \n",
       "closing_principal_balance  0.047965            0.045553             0.042369   \n",
       "original_loan_amount       0.066453            0.024656            -0.012028   \n",
       "product                    1.000000           -0.242616            -0.097474   \n",
       "original_loan_term        -0.242616            1.000000             0.793162   \n",
       "remaining_loan_term       -0.097474            0.793162             1.000000   \n",
       "target                     0.086516           -0.004111             0.001385   \n",
       "debt_to_income            -0.048144            0.062439             0.145103   \n",
       "interest_rate              0.132485           -0.320660            -0.391759   \n",
       "\n",
       "                             target  debt_to_income  interest_rate  \n",
       "monthly_income            -0.049122        0.035608      -0.124201  \n",
       "origination_score_band     0.104942       -0.002150       0.017032  \n",
       "TOB_months                 0.042655       -0.181777       0.307703  \n",
       "closing_principal_balance -0.038322        0.492609      -0.183086  \n",
       "original_loan_amount      -0.038077        0.467632      -0.094327  \n",
       "product                    0.086516       -0.048144       0.132485  \n",
       "original_loan_term        -0.004111        0.062439      -0.320660  \n",
       "remaining_loan_term        0.001385        0.145103      -0.391759  \n",
       "target                     1.000000        0.007157      -0.037662  \n",
       "debt_to_income             0.007157        1.000000      -0.287080  \n",
       "interest_rate             -0.037662       -0.287080       1.000000  "
      ]
     },
     "execution_count": 33,
     "metadata": {},
     "output_type": "execute_result"
    }
   ],
   "source": [
    "#Summary of Data\n",
    "df.corr()"
   ]
  },
  {
   "cell_type": "code",
   "execution_count": 34,
   "id": "bc45e84c",
   "metadata": {
    "scrolled": false
   },
   "outputs": [
    {
     "data": {
      "image/png": "[encoded data removed]",
      "text/plain": [
       "<Figure size 1000x800 with 2 Axes>"
      ]
     },
     "metadata": {},
     "output_type": "display_data"
    }
   ],
   "source": [
    "sns.set(rc={'figure.figsize':(10,8)})\n",
    "sns.heatmap(df.corr(),annot=True)\n",
    "plt.show()"
   ]
  },
  {
   "cell_type": "code",
   "execution_count": 35,
   "id": "43877cc9",
   "metadata": {},
   "outputs": [],
   "source": [
    "#Scatter plot"
   ]
  },
  {
   "cell_type": "code",
   "execution_count": 36,
   "id": "609f1731",
   "metadata": {},
   "outputs": [
    {
     "data": {
      "image/png": "[encoded data removed]",
      "text/plain": [
       "<Figure size 1000x800 with 1 Axes>"
      ]
     },
     "metadata": {},
     "output_type": "display_data"
    }
   ],
   "source": [
    "plt.scatter(df['monthly_income'], df['closing_principal_balance'])\n",
    "plt.xlabel('Monthly Income')\n",
    "plt.ylabel('Closing Principal Balance');"
   ]
  },
  {
   "cell_type": "code",
   "execution_count": 37,
   "id": "d687efea",
   "metadata": {},
   "outputs": [
    {
     "data": {
      "image/png": "[encoded data removed]",
      "text/plain": [
       "<Figure size 1000x800 with 1 Axes>"
      ]
     },
     "metadata": {},
     "output_type": "display_data"
    }
   ],
   "source": [
    "sns.scatterplot(x=\"closing_principal_balance\", y=\"original_loan_amount\", data=df);"
   ]
  },
  {
   "cell_type": "code",
   "execution_count": 38,
   "id": "c0e07471",
   "metadata": {},
   "outputs": [],
   "source": [
    "#boxplot"
   ]
  },
  {
   "cell_type": "code",
   "execution_count": 39,
   "id": "6a4d6c09",
   "metadata": {},
   "outputs": [
    {
     "data": {
      "image/png": "[encoded data removed]",
      "text/plain": [
       "<Figure size 1000x800 with 1 Axes>"
      ]
     },
     "metadata": {},
     "output_type": "display_data"
    }
   ],
   "source": [
    "sns.boxplot(x = \"product\", y = \"monthly_income\", data = df);"
   ]
  },
  {
   "cell_type": "code",
   "execution_count": 40,
   "id": "65b87e04",
   "metadata": {},
   "outputs": [],
   "source": [
    "#Histogram"
   ]
  },
  {
   "cell_type": "code",
   "execution_count": 41,
   "id": "6b839ab8",
   "metadata": {},
   "outputs": [
    {
     "data": {
      "image/png": "[encoded data removed]",
      "text/plain": [
       "<Figure size 1000x1000 with 4 Axes>"
      ]
     },
     "metadata": {},
     "output_type": "display_data"
    }
   ],
   "source": [
    "# create a figure and set the size\n",
    "fig, axs = plt.subplots(2, 2, figsize=(10, 10))\n",
    "\n",
    "# plot histogram for 'monthly_income'\n",
    "axs[0, 0].hist(df['monthly_income'], bins = 8)\n",
    "axs[0, 0].set_title('Monthly Income')\n",
    "\n",
    "# plot histogram for 'TOB_months'\n",
    "axs[0, 1].hist(df['TOB_months'], bins = 8)\n",
    "axs[0, 1].set_title('TOB Months')\n",
    "\n",
    "# plot histogram for 'closing_principal_balance'\n",
    "axs[1, 0].hist(df['closing_principal_balance'], bins = 8)\n",
    "axs[1, 0].set_title('Closing Principal Balance')\n",
    "\n",
    "# plot histogram for 'original_loan_amount'\n",
    "axs[1, 1].hist(df['original_loan_amount'], bins = 8)\n",
    "axs[1, 1].set_title('Original Loan Amount');"
   ]
  },
  {
   "cell_type": "code",
   "execution_count": 42,
   "id": "ded55abf",
   "metadata": {},
   "outputs": [
    {
     "data": {
      "image/png": "[encoded data removed]",
      "text/plain": [
       "<Figure size 1000x800 with 1 Axes>"
      ]
     },
     "metadata": {},
     "output_type": "display_data"
    }
   ],
   "source": [
    "sns.countplot(x='product', hue='target', data=df);"
   ]
  },
  {
   "cell_type": "markdown",
   "id": "fea14234",
   "metadata": {},
   "source": [
    "## 5.0 Logistics Regression Classification Model"
   ]
  },
  {
   "cell_type": "markdown",
   "id": "7d4217c9",
   "metadata": {},
   "source": [
    "### 5.1 Defining Independent and Dependent features"
   ]
  },
  {
   "cell_type": "code",
   "execution_count": 43,
   "id": "84417b6e",
   "metadata": {},
   "outputs": [],
   "source": [
    "X = df[['origination_score_band', 'original_loan_amount', 'monthly_income', 'closing_principal_balance', 'original_loan_term', 'TOB_months', 'product', 'interest_rate', 'remaining_loan_term']].values\n",
    "X = X.reshape(-1,9)\n",
    "\n",
    "y = df[['target']].values"
   ]
  },
  {
   "cell_type": "code",
   "execution_count": 44,
   "id": "7ec263d3",
   "metadata": {},
   "outputs": [],
   "source": [
    "y = np.ravel(y)"
   ]
  },
  {
   "cell_type": "markdown",
   "id": "613038d4",
   "metadata": {},
   "source": [
    "### 5.2 Splitting Data into Training and Test"
   ]
  },
  {
   "cell_type": "code",
   "execution_count": 45,
   "id": "bc8b5cc3",
   "metadata": {},
   "outputs": [],
   "source": [
    "# Split the data into training and testing sets\n",
    "X_train, X_test, y_train, y_test = train_test_split(X, y, test_size=0.15, random_state=190)"
   ]
  },
  {
   "cell_type": "code",
   "execution_count": 46,
   "id": "90ea5ec4",
   "metadata": {},
   "outputs": [],
   "source": [
    "# Train Logistic Regression on the training data\n",
    "model = LogisticRegression(C=1.0, penalty='l2', max_iter=200)"
   ]
  },
  {
   "cell_type": "code",
   "execution_count": 47,
   "id": "be7fd994",
   "metadata": {},
   "outputs": [
    {
     "data": {
      "text/plain": [
       "LogisticRegression(max_iter=200)"
      ]
     },
     "execution_count": 47,
     "metadata": {},
     "output_type": "execute_result"
    }
   ],
   "source": [
    "# Fit the model to the training data (Logistic Regression)\n",
    "model.fit(X_train, y_train)"
   ]
  },
  {
   "cell_type": "code",
   "execution_count": 48,
   "id": "3ac22cf8",
   "metadata": {},
   "outputs": [
    {
     "name": "stdout",
     "output_type": "stream",
     "text": [
      "Accuracy: 72.78\n"
     ]
    }
   ],
   "source": [
    "# Use the trained model to make predictions on the test data\n",
    "y_pred = model.predict(X_test)\n",
    "\n",
    "# Calculate the accuracy of the predictions\n",
    "accuracy = (y_pred == y_test).mean() * 100\n",
    "print(f'Accuracy: {accuracy:.2f}')"
   ]
  },
  {
   "cell_type": "code",
   "execution_count": 49,
   "id": "d6334914",
   "metadata": {},
   "outputs": [
    {
     "data": {
      "text/plain": [
       "69.84548527281507"
      ]
     },
     "execution_count": 49,
     "metadata": {},
     "output_type": "execute_result"
    }
   ],
   "source": [
    "model.score(X_train, y_train) * 100"
   ]
  },
  {
   "cell_type": "code",
   "execution_count": 50,
   "id": "47866606",
   "metadata": {},
   "outputs": [
    {
     "data": {
      "text/plain": [
       "72.77701778385773"
      ]
     },
     "execution_count": 50,
     "metadata": {},
     "output_type": "execute_result"
    }
   ],
   "source": [
    "# Calculate the accuracy of the model (Logistic Regression)\n",
    "accuracy = accuracy_score(y_test, y_pred)*100\n",
    "accuracy"
   ]
  },
  {
   "cell_type": "code",
   "execution_count": 51,
   "id": "a55822e3",
   "metadata": {},
   "outputs": [
    {
     "data": {
      "text/plain": [
       "80.0"
      ]
     },
     "execution_count": 51,
     "metadata": {},
     "output_type": "execute_result"
    }
   ],
   "source": [
    "# Calculate the precision of the model\n",
    "precision = precision_score(y_test, y_pred) *100\n",
    "precision"
   ]
  },
  {
   "cell_type": "code",
   "execution_count": 52,
   "id": "c3b17621",
   "metadata": {},
   "outputs": [
    {
     "data": {
      "text/plain": [
       "0.019801980198019802"
      ]
     },
     "execution_count": 52,
     "metadata": {},
     "output_type": "execute_result"
    }
   ],
   "source": [
    "# Calculate the recall of the model\n",
    "recall = recall_score(y_test, y_pred)\n",
    "recall"
   ]
  },
  {
   "cell_type": "code",
   "execution_count": 53,
   "id": "033d4648",
   "metadata": {},
   "outputs": [
    {
     "data": {
      "text/plain": [
       "array([[528,   1],\n",
       "       [198,   4]], dtype=int64)"
      ]
     },
     "execution_count": 53,
     "metadata": {},
     "output_type": "execute_result"
    }
   ],
   "source": [
    "#[True Positive], [False Positive]\n",
    "#[False Negative], [True Negative]\n",
    "\n",
    "confusion_matrix(y_test,y_pred)"
   ]
  },
  {
   "cell_type": "code",
   "execution_count": 54,
   "id": "b4224479",
   "metadata": {},
   "outputs": [],
   "source": [
    "# Perform prediction, and checking prediction performance"
   ]
  },
  {
   "attachments": {
    "LoanAnalysis_First_15.png": {
     "image/png": "[encoded data removed]"
    }
   },
   "cell_type": "markdown",
   "id": "49c82f5f",
   "metadata": {},
   "source": [
    "![LoanAnalysis_First_15.png](attachment:LoanAnalysis_First_15.png)"
   ]
  },
  {
   "cell_type": "code",
   "execution_count": 55,
   "id": "b98f64b0",
   "metadata": {},
   "outputs": [
    {
     "name": "stdout",
     "output_type": "stream",
     "text": [
      "\u001b[32m \u001b[1mTARGET 0: YOUR LOAN IS NOT ROLLED\n"
     ]
    }
   ],
   "source": [
    "monthly_income = 23250\n",
    "origination_score_band = 3\n",
    "TOB_months = 76\n",
    "closing_principal_balance = 3900\n",
    "original_loan_amount =6900\n",
    "product = 1\n",
    "original_loan_term = 60\n",
    "remaining_loan_term = 48\n",
    "interest_rate = 0.95\n",
    "\n",
    "\n",
    "\n",
    "prediction = model.predict([(origination_score_band, original_loan_amount, monthly_income, closing_principal_balance, original_loan_term, TOB_months, product, interest_rate, remaining_loan_term)])\n",
    "if prediction == 1:\n",
    "    print(Fore.RED, Style.BRIGHT + \"TARGET 1: YOUR LOAN IS ROLLED\")\n",
    "else:\n",
    "    print(Fore.GREEN, Style.BRIGHT + \"TARGET 0: YOUR LOAN IS NOT ROLLED\")"
   ]
  },
  {
   "cell_type": "code",
   "execution_count": 56,
   "id": "aa19f6ba",
   "metadata": {},
   "outputs": [
    {
     "name": "stdout",
     "output_type": "stream",
     "text": [
      "\u001b[31m \u001b[1mTARGET 1: YOUR LOAN IS ROLLED\n"
     ]
    }
   ],
   "source": [
    "monthly_income = 6000\n",
    "origination_score_band = 5\n",
    "TOB_months = 83\n",
    "closing_principal_balance = 300\n",
    "original_loan_amount = 1800\n",
    "product = 1\n",
    "original_loan_term = 24\n",
    "remaining_loan_term = 5\n",
    "interest_rate = 7.19\n",
    "\n",
    "\n",
    "prediction = model.predict([(origination_score_band, original_loan_amount, monthly_income, closing_principal_balance, original_loan_term, TOB_months, product, interest_rate, remaining_loan_term)])\n",
    "if prediction == 1:\n",
    "    print(Fore.RED, Style.BRIGHT + \"TARGET 1: YOUR LOAN IS ROLLED\")\n",
    "else:\n",
    "    print(Fore.GREEN, Style.BRIGHT + \"TARGET 0: YOUR LOAN IS NOT ROLLED\")"
   ]
  },
  {
   "cell_type": "code",
   "execution_count": 57,
   "id": "ea92e575",
   "metadata": {},
   "outputs": [
    {
     "name": "stdout",
     "output_type": "stream",
     "text": [
      "Enter Monthly Income: 6000\n",
      "Enter Origination Score Band between 1 and 8: 5\n",
      "Enter TOB Month (Early Deliquency Month): 83\n",
      "Enter Closing Principal Balance: 300\n",
      "Enter Original Loan Amount: 1800\n",
      "Enter Product between 0 and 3: 1\n",
      "Enter Original Loan Term: 24\n",
      "Enter Remaining Loan Term: 5\n",
      "Enter Interest Rate: 7.19\n",
      "\u001b[31m \u001b[1mTARGET 1: YOUR LOAN IS ROLLED\n"
     ]
    }
   ],
   "source": [
    "monthly_income = int(input('Enter Monthly Income: '))\n",
    "\n",
    "while True:\n",
    "    origination_score_band = int(input('Enter Origination Score Band between 1 and 8: '))\n",
    "    if origination_score_band < 1 or origination_score_band > 8:\n",
    "        print(\"Error: Origination Score Band must be between 1 and 8. Please try again.\")\n",
    "    else:\n",
    "        break\n",
    "\n",
    "TOB_months = int(input('Enter TOB Month (Early Deliquency Month): '))\n",
    "closing_principal_balance = int(input('Enter Closing Principal Balance: '))\n",
    "original_loan_amount = int(input('Enter Original Loan Amount: '))\n",
    "\n",
    "while True:\n",
    "    product = int(input('Enter Product between 0 and 3: '))\n",
    "    if product < 0 or product > 3:\n",
    "        print(\"Error: Product must be between 0 and 3. Please try again.\")\n",
    "    else:\n",
    "        break\n",
    "\n",
    "original_loan_term = int(input('Enter Original Loan Term: '))\n",
    "remaining_loan_term = int(input('Enter Remaining Loan Term: '))\n",
    "interest_rate = float(input('Enter Interest Rate: '))\n",
    "\n",
    "prediction = model.predict([(origination_score_band, original_loan_amount, monthly_income, closing_principal_balance, original_loan_term, TOB_months, product, interest_rate, remaining_loan_term)])\n",
    "if prediction == 1:\n",
    "    print(Fore.RED, Style.BRIGHT + \"TARGET 1: YOUR LOAN IS ROLLED\")\n",
    "else:\n",
    "    print(Fore.GREEN, Style.BRIGHT + \"TARGET 0: YOUR LOAN IS NOT ROLLED\")"
   ]
  },
  {
   "cell_type": "code",
   "execution_count": 58,
   "id": "3c22ba88",
   "metadata": {},
   "outputs": [],
   "source": [
    "#Logistic Regression model ends..."
   ]
  },
  {
   "cell_type": "markdown",
   "id": "e71d9424",
   "metadata": {},
   "source": [
    "## 6.0 Random Forest Classification Model"
   ]
  },
  {
   "cell_type": "markdown",
   "id": "92ff6a3a",
   "metadata": {},
   "source": [
    "### 6.1 Defining Independent and Dependent features"
   ]
  },
  {
   "cell_type": "code",
   "execution_count": 59,
   "id": "d8cb7b7f",
   "metadata": {},
   "outputs": [],
   "source": [
    "X = df[['origination_score_band', 'original_loan_amount', 'monthly_income', 'closing_principal_balance', 'original_loan_term', 'TOB_months', 'product', 'interest_rate', 'remaining_loan_term']].values\n",
    "X = X.reshape(-1,9)\n",
    "\n",
    "y = df[['target']].values"
   ]
  },
  {
   "cell_type": "code",
   "execution_count": 60,
   "id": "53c73923",
   "metadata": {},
   "outputs": [],
   "source": [
    "#Make sure y variable is a 1-D array for \n",
    "y = np.ravel(y)"
   ]
  },
  {
   "cell_type": "markdown",
   "id": "09ada847",
   "metadata": {},
   "source": [
    "### 6.2 Splitting Data into Training and Test"
   ]
  },
  {
   "cell_type": "code",
   "execution_count": 61,
   "id": "10e86869",
   "metadata": {},
   "outputs": [],
   "source": [
    "# Split the data into training and testing sets\n",
    "X_train, X_test, y_train, y_test = train_test_split(X, y, test_size=0.25, random_state=42)"
   ]
  },
  {
   "cell_type": "code",
   "execution_count": 62,
   "id": "54955539",
   "metadata": {},
   "outputs": [
    {
     "name": "stdout",
     "output_type": "stream",
     "text": [
      "Accuracy: 100.00\n"
     ]
    }
   ],
   "source": [
    "# Train a random forest classifier on the training data\n",
    "clf = RandomForestClassifier(n_estimators=200, random_state=100)\n",
    "clf.fit(X_train, y_train)\n",
    "\n",
    "# Use the trained classifier to make predictions on the test data\n",
    "predictions = clf.predict(X_test)\n",
    "\n",
    "# Calculate the accuracy of the predictions\n",
    "accuracy = (predictions == y_test).mean() * 100\n",
    "print(f'Accuracy: {accuracy:.2f}')"
   ]
  },
  {
   "cell_type": "code",
   "execution_count": 63,
   "id": "f2d90022",
   "metadata": {},
   "outputs": [
    {
     "data": {
      "text/plain": [
       "100.0"
      ]
     },
     "execution_count": 63,
     "metadata": {},
     "output_type": "execute_result"
    }
   ],
   "source": [
    "# Calculate the accuracy of the model (Random forest)\n",
    "accuracy = accuracy_score(y_test, predictions)*100\n",
    "accuracy"
   ]
  },
  {
   "cell_type": "code",
   "execution_count": 64,
   "id": "dc40fa78",
   "metadata": {},
   "outputs": [
    {
     "data": {
      "text/plain": [
       "100.0"
      ]
     },
     "execution_count": 64,
     "metadata": {},
     "output_type": "execute_result"
    }
   ],
   "source": [
    "clf.score(X_train, y_train) *100"
   ]
  },
  {
   "cell_type": "code",
   "execution_count": 65,
   "id": "2e502192",
   "metadata": {},
   "outputs": [
    {
     "data": {
      "text/plain": [
       "100.0"
      ]
     },
     "execution_count": 65,
     "metadata": {},
     "output_type": "execute_result"
    }
   ],
   "source": [
    "# Calculate the precision of the model (Random forest)\n",
    "precision = precision_score(y_test, predictions)*100\n",
    "precision"
   ]
  },
  {
   "cell_type": "code",
   "execution_count": 66,
   "id": "98ae2bc1",
   "metadata": {},
   "outputs": [
    {
     "data": {
      "text/plain": [
       "100.0"
      ]
     },
     "execution_count": 66,
     "metadata": {},
     "output_type": "execute_result"
    }
   ],
   "source": [
    "# Calculate the recall of the model (Random forest)\n",
    "recall = recall_score(y_test, predictions)*100\n",
    "recall"
   ]
  },
  {
   "cell_type": "code",
   "execution_count": 67,
   "id": "4005cae7",
   "metadata": {},
   "outputs": [
    {
     "data": {
      "text/plain": [
       "array([[841,   0],\n",
       "       [  0, 378]], dtype=int64)"
      ]
     },
     "execution_count": 67,
     "metadata": {},
     "output_type": "execute_result"
    }
   ],
   "source": [
    "#[True Positive], [False Positive]\n",
    "#[False Negative], [True Negative]\n",
    "\n",
    "#Confusion matrix result of the model (Random forest)\n",
    "confusion_matrix(y_test,predictions)"
   ]
  },
  {
   "attachments": {
    "LoanAnalysis_First_15.png": {
     "image/png": "[encoded data removed]"
    }
   },
   "cell_type": "markdown",
   "id": "f827bbb0",
   "metadata": {},
   "source": [
    "![LoanAnalysis_First_15.png](attachment:LoanAnalysis_First_15.png)"
   ]
  },
  {
   "cell_type": "code",
   "execution_count": 68,
   "id": "9266d9ea",
   "metadata": {},
   "outputs": [
    {
     "name": "stdout",
     "output_type": "stream",
     "text": [
      "\u001b[31m \u001b[1mTARGET 1: YOUR LOAN IS ROLLED\n"
     ]
    }
   ],
   "source": [
    "monthly_income = 23250\n",
    "origination_score_band = 3\n",
    "TOB_months = 76\n",
    "closing_principal_balance = 3900\n",
    "original_loan_amount =6900\n",
    "product = 1\n",
    "original_loan_term = 60\n",
    "remaining_loan_term = 48\n",
    "interest_rate = 0.95\n",
    "\n",
    "\n",
    "\n",
    "prediction = clf.predict([(origination_score_band, original_loan_amount, monthly_income, closing_principal_balance, original_loan_term, TOB_months, product, interest_rate, remaining_loan_term)])\n",
    "if prediction == 1:\n",
    "    print(Fore.RED, Style.BRIGHT + \"TARGET 1: YOUR LOAN IS ROLLED\")\n",
    "else:\n",
    "    print(Fore.GREEN, Style.BRIGHT + \"TARGET 0: YOUR LOAN IS NOT ROLLED\")"
   ]
  },
  {
   "cell_type": "code",
   "execution_count": 69,
   "id": "aa8980f1",
   "metadata": {},
   "outputs": [
    {
     "name": "stdout",
     "output_type": "stream",
     "text": [
      "\u001b[32m \u001b[1mTARGET 0: YOUR LOAN IS NOT ROLLED\n"
     ]
    }
   ],
   "source": [
    "monthly_income = 6000\n",
    "origination_score_band = 5\n",
    "TOB_months = 83\n",
    "closing_principal_balance = 300\n",
    "original_loan_amount = 1800\n",
    "product = 1\n",
    "original_loan_term = 24\n",
    "remaining_loan_term = 5\n",
    "interest_rate = 7.19\n",
    "\n",
    "\n",
    "prediction = clf.predict([(origination_score_band, original_loan_amount, monthly_income, closing_principal_balance, original_loan_term, TOB_months, product, interest_rate, remaining_loan_term)])\n",
    "if prediction == 1:\n",
    "    print(Fore.RED, Style.BRIGHT + \"TARGET 1: YOUR LOAN IS ROLLED\")\n",
    "else:\n",
    "    print(Fore.GREEN, Style.BRIGHT + \"TARGET 0: YOUR LOAN IS NOT ROLLED\")"
   ]
  },
  {
   "cell_type": "code",
   "execution_count": 70,
   "id": "d756fa23",
   "metadata": {},
   "outputs": [
    {
     "name": "stdout",
     "output_type": "stream",
     "text": [
      "Enter Monthly Income: 6000\n",
      "Enter Origination Score Band between 1 and 8: 5\n",
      "Enter TOB Month (Early Deliquency Month): 83\n",
      "Enter Closing Principal Balance: 300\n",
      "Enter Original Loan Amount: 1800\n",
      "Enter Product between 0 and 3: 1\n",
      "Enter Original Loan Term: 24\n",
      "Enter Remaining Loan Term: 5\n",
      "Enter Interest Rate: 7.19\n",
      "\u001b[32m \u001b[1mTARGET 0: YOUR LOAN IS NOT ROLLED\n"
     ]
    }
   ],
   "source": [
    "monthly_income = int(input('Enter Monthly Income: '))\n",
    "\n",
    "while True:\n",
    "    origination_score_band = int(input('Enter Origination Score Band between 1 and 8: '))\n",
    "    if origination_score_band < 1 or origination_score_band > 8:\n",
    "        print(\"Error: Origination Score Band must be between 1 and 8. Please try again.\")\n",
    "    else:\n",
    "        break\n",
    "\n",
    "TOB_months = int(input('Enter TOB Month (Early Deliquency Month): '))\n",
    "closing_principal_balance = int(input('Enter Closing Principal Balance: '))\n",
    "original_loan_amount = int(input('Enter Original Loan Amount: '))\n",
    "\n",
    "while True:\n",
    "    product = int(input('Enter Product between 0 and 3: '))\n",
    "    if product < 0 or product > 3:\n",
    "        print(\"Error: Product must be between 0 and 3. Please try again.\")\n",
    "    else:\n",
    "        break\n",
    "\n",
    "original_loan_term = int(input('Enter Original Loan Term: '))\n",
    "remaining_loan_term = int(input('Enter Remaining Loan Term: '))\n",
    "interest_rate = float(input('Enter Interest Rate: '))\n",
    "\n",
    "prediction = clf.predict([(origination_score_band, original_loan_amount, monthly_income, closing_principal_balance, original_loan_term, TOB_months, product, interest_rate, remaining_loan_term)])\n",
    "if prediction == 1:\n",
    "    print(Fore.RED, Style.BRIGHT + \"TARGET 1: YOUR LOAN IS ROLLED\")\n",
    "else:\n",
    "    print(Fore.GREEN, Style.BRIGHT + \"TARGET 0: YOUR LOAN IS NOT ROLLED\")"
   ]
  },
  {
   "cell_type": "code",
   "execution_count": 71,
   "id": "8a71df73",
   "metadata": {},
   "outputs": [],
   "source": [
    "#Random Forest Classification model ends..."
   ]
  },
  {
   "cell_type": "markdown",
   "id": "5df2e59a",
   "metadata": {},
   "source": [
    "## 7.0 XGBoost (eXtreme Gradient Boosting) "
   ]
  },
  {
   "cell_type": "markdown",
   "id": "2e5a87fb",
   "metadata": {},
   "source": [
    "### 7.1 Defining Independent and Dependent features"
   ]
  },
  {
   "cell_type": "code",
   "execution_count": 72,
   "id": "6830ecdc",
   "metadata": {},
   "outputs": [],
   "source": [
    "X = df[['origination_score_band', 'original_loan_amount', 'monthly_income', 'closing_principal_balance', 'original_loan_term', 'TOB_months', 'product', 'interest_rate', 'remaining_loan_term']].values\n",
    "X = X.reshape(-1,9)\n",
    "\n",
    "y = df[['target']].values"
   ]
  },
  {
   "cell_type": "code",
   "execution_count": 73,
   "id": "94efa3f0",
   "metadata": {},
   "outputs": [],
   "source": [
    "#Make sure y variable is a 1-D array for \n",
    "y = np.ravel(y)"
   ]
  },
  {
   "cell_type": "code",
   "execution_count": 74,
   "id": "424770ee",
   "metadata": {},
   "outputs": [],
   "source": [
    "# Split the data into training and test sets\n",
    "X_train, X_test, y_train, y_test = train_test_split(X, y, test_size=0.2, random_state=42)"
   ]
  },
  {
   "cell_type": "code",
   "execution_count": 75,
   "id": "22dda0df",
   "metadata": {},
   "outputs": [],
   "source": [
    "# Create the XGBoost model\n",
    "xg_model = xgb.XGBClassifier(objective=\"binary:logistic\", random_state=42)"
   ]
  },
  {
   "cell_type": "code",
   "execution_count": 76,
   "id": "0ad1d682",
   "metadata": {},
   "outputs": [
    {
     "data": {
      "text/plain": [
       "XGBClassifier(base_score=None, booster=None, callbacks=None,\n",
       "              colsample_bylevel=None, colsample_bynode=None,\n",
       "              colsample_bytree=None, early_stopping_rounds=None,\n",
       "              enable_categorical=False, eval_metric=None, feature_types=None,\n",
       "              gamma=None, gpu_id=None, grow_policy=None, importance_type=None,\n",
       "              interaction_constraints=None, learning_rate=None, max_bin=None,\n",
       "              max_cat_threshold=None, max_cat_to_onehot=None,\n",
       "              max_delta_step=None, max_depth=None, max_leaves=None,\n",
       "              min_child_weight=None, missing=nan, monotone_constraints=None,\n",
       "              n_estimators=100, n_jobs=None, num_parallel_tree=None,\n",
       "              predictor=None, random_state=42, ...)"
      ]
     },
     "execution_count": 76,
     "metadata": {},
     "output_type": "execute_result"
    }
   ],
   "source": [
    "# Fit the model to the training data\n",
    "xg_model.fit(X_train, y_train)"
   ]
  },
  {
   "cell_type": "code",
   "execution_count": 77,
   "id": "add92b8d",
   "metadata": {},
   "outputs": [
    {
     "data": {
      "text/plain": [
       "100.0"
      ]
     },
     "execution_count": 77,
     "metadata": {},
     "output_type": "execute_result"
    }
   ],
   "source": [
    "xg_model.score(X_train, y_train)*100"
   ]
  },
  {
   "cell_type": "code",
   "execution_count": 78,
   "id": "176dd958",
   "metadata": {},
   "outputs": [],
   "source": [
    "# Make predictions on the test set\n",
    "xg_pred = xg_model.predict(X_test)"
   ]
  },
  {
   "cell_type": "code",
   "execution_count": 79,
   "id": "e5417a4a",
   "metadata": {},
   "outputs": [
    {
     "name": "stdout",
     "output_type": "stream",
     "text": [
      "Accuracy: 100.00%\n"
     ]
    }
   ],
   "source": [
    "# Print the accuracy of the model\n",
    "print(\"Accuracy: {:.2f}%\".format(xg_model.score(X_test, y_test) * 100))"
   ]
  },
  {
   "cell_type": "code",
   "execution_count": 80,
   "id": "d1c6fa53",
   "metadata": {},
   "outputs": [
    {
     "data": {
      "text/plain": [
       "100.0"
      ]
     },
     "execution_count": 80,
     "metadata": {},
     "output_type": "execute_result"
    }
   ],
   "source": [
    "# Calculate the accuracy of the model (XGBoost)\n",
    "accuracy = accuracy_score(y_test, xg_pred)*100\n",
    "accuracy"
   ]
  },
  {
   "cell_type": "code",
   "execution_count": 81,
   "id": "4a846af7",
   "metadata": {},
   "outputs": [
    {
     "data": {
      "text/plain": [
       "100.0"
      ]
     },
     "execution_count": 81,
     "metadata": {},
     "output_type": "execute_result"
    }
   ],
   "source": [
    "# Calculate the recall of the model (XGBoost)\n",
    "recall = recall_score(y_test, xg_pred)*100\n",
    "recall"
   ]
  },
  {
   "cell_type": "code",
   "execution_count": 82,
   "id": "bd7f7d77",
   "metadata": {},
   "outputs": [
    {
     "data": {
      "text/plain": [
       "100.0"
      ]
     },
     "execution_count": 82,
     "metadata": {},
     "output_type": "execute_result"
    }
   ],
   "source": [
    "# Calculate the precision of the model (XGBoost)\n",
    "precision = precision_score(y_test, xg_pred)*100\n",
    "precision"
   ]
  },
  {
   "cell_type": "code",
   "execution_count": 83,
   "id": "03d2804c",
   "metadata": {},
   "outputs": [
    {
     "data": {
      "text/plain": [
       "array([[668,   0],\n",
       "       [  0, 307]], dtype=int64)"
      ]
     },
     "execution_count": 83,
     "metadata": {},
     "output_type": "execute_result"
    }
   ],
   "source": [
    "#[True Positive], [False Positive]\n",
    "#[False Negative], [True Negative]\n",
    "\n",
    "#Confusion matrix result of the model (XGBoost)\n",
    "confusion_matrix(y_test,xg_pred)"
   ]
  },
  {
   "attachments": {
    "LoanAnalysis_First_15.png": {
     "image/png": "[encoded data removed]"
    }
   },
   "cell_type": "markdown",
   "id": "96cb4bdf",
   "metadata": {},
   "source": [
    "![LoanAnalysis_First_15.png](attachment:LoanAnalysis_First_15.png)"
   ]
  },
  {
   "cell_type": "code",
   "execution_count": 84,
   "id": "6f22c161",
   "metadata": {},
   "outputs": [
    {
     "name": "stdout",
     "output_type": "stream",
     "text": [
      "\u001b[31m \u001b[1mTARGET 1: YOUR LOAN IS ROLLED\n"
     ]
    }
   ],
   "source": [
    "monthly_income = 23250\n",
    "origination_score_band = 3\n",
    "TOB_months = 76\n",
    "closing_principal_balance = 3900\n",
    "original_loan_amount =6900\n",
    "product = 1\n",
    "original_loan_term = 60\n",
    "remaining_loan_term = 48\n",
    "interest_rate = 0.95\n",
    "\n",
    "\n",
    "\n",
    "prediction = xg_model.predict([(origination_score_band, original_loan_amount, monthly_income, closing_principal_balance, original_loan_term, TOB_months, product, interest_rate, remaining_loan_term)])\n",
    "if prediction == 1:\n",
    "    print(Fore.RED, Style.BRIGHT + \"TARGET 1: YOUR LOAN IS ROLLED\")\n",
    "else:\n",
    "    print(Fore.GREEN, Style.BRIGHT + \"TARGET 0: YOUR LOAN IS NOT ROLLED\")"
   ]
  },
  {
   "cell_type": "code",
   "execution_count": 85,
   "id": "0f6a851f",
   "metadata": {},
   "outputs": [
    {
     "name": "stdout",
     "output_type": "stream",
     "text": [
      "\u001b[32m \u001b[1mTARGET 0: YOUR LOAN IS NOT ROLLED\n"
     ]
    }
   ],
   "source": [
    "monthly_income = 6000\n",
    "origination_score_band = 5\n",
    "TOB_months = 83\n",
    "closing_principal_balance = 300\n",
    "original_loan_amount = 1800\n",
    "product = 1\n",
    "original_loan_term = 24\n",
    "remaining_loan_term = 5\n",
    "interest_rate = 7.19\n",
    "\n",
    "\n",
    "prediction = xg_model.predict([(origination_score_band, original_loan_amount, monthly_income, closing_principal_balance, original_loan_term, TOB_months, product, interest_rate, remaining_loan_term)])\n",
    "if prediction == 1:\n",
    "    print(Fore.RED, Style.BRIGHT + \"TARGET 1: YOUR LOAN IS ROLLED\")\n",
    "else:\n",
    "    print(Fore.GREEN, Style.BRIGHT + \"TARGET 0: YOUR LOAN IS NOT ROLLED\")"
   ]
  },
  {
   "cell_type": "code",
   "execution_count": 86,
   "id": "0b822982",
   "metadata": {},
   "outputs": [
    {
     "name": "stdout",
     "output_type": "stream",
     "text": [
      "Enter Monthly Income: 6000\n",
      "Enter Origination Score Band between 1 and 8: 5\n",
      "Enter TOB Month (Early Deliquency Month): 83\n",
      "Enter Closing Principal Balance: 300\n",
      "Enter Original Loan Amount: 1800\n",
      "Enter Product between 0 and 3: 1\n",
      "Enter Original Loan Term: 24\n",
      "Enter Remaining Loan Term: 5\n",
      "Enter Interest Rate: 7.19\n",
      "\u001b[32m \u001b[1mTARGET 0: YOUR LOAN IS NOT ROLLED\n"
     ]
    }
   ],
   "source": [
    "monthly_income = int(input('Enter Monthly Income: '))\n",
    "\n",
    "while True:\n",
    "    origination_score_band = int(input('Enter Origination Score Band between 1 and 8: '))\n",
    "    if origination_score_band < 1 or origination_score_band > 8:\n",
    "        print(\"Error: Origination Score Band must be between 1 and 8. Please try again.\")\n",
    "    else:\n",
    "        break\n",
    "\n",
    "TOB_months = int(input('Enter TOB Month (Early Deliquency Month): '))\n",
    "closing_principal_balance = int(input('Enter Closing Principal Balance: '))\n",
    "original_loan_amount = int(input('Enter Original Loan Amount: '))\n",
    "\n",
    "while True:\n",
    "    product = int(input('Enter Product between 0 and 3: '))\n",
    "    if product < 0 or product > 3:\n",
    "        print(\"Error: Product must be between 0 and 3. Please try again.\")\n",
    "    else:\n",
    "        break\n",
    "\n",
    "original_loan_term = int(input('Enter Original Loan Term: '))\n",
    "remaining_loan_term = int(input('Enter Remaining Loan Term: '))\n",
    "interest_rate = float(input('Enter Interest Rate: '))\n",
    "\n",
    "prediction = xg_model.predict([(origination_score_band, original_loan_amount, monthly_income, closing_principal_balance, original_loan_term, TOB_months, product, interest_rate, remaining_loan_term)])\n",
    "if prediction == 1:\n",
    "    print(Fore.RED, Style.BRIGHT + \"TARGET 1: YOUR LOAN IS ROLLED\")\n",
    "else:\n",
    "    print(Fore.GREEN, Style.BRIGHT + \"TARGET 0: YOUR LOAN IS NOT ROLLED\")\n"
   ]
  },
  {
   "cell_type": "code",
   "execution_count": 87,
   "id": "c8101744",
   "metadata": {},
   "outputs": [],
   "source": [
    "#XGBoost Classification model ends..."
   ]
  },
  {
   "cell_type": "markdown",
   "id": "51e32cc2",
   "metadata": {},
   "source": [
    "### The  below  observations  were  recorded  after carrying  out  further  test  on  my Random forest  and  XGBoost model"
   ]
  },
  {
   "cell_type": "markdown",
   "id": "5ebe60f0",
   "metadata": {},
   "source": [
    "I took out the product field from my model;\n",
    "\n",
    "Random forest\n",
    "Accuracy score: 99.75\n",
    "Precision score: 100\n",
    "Confusion matrix: (TP: 841 TN: 0, FN: 3, FP: 375)\n",
    "\n",
    "XGBoost\n",
    "Accuracy score: 100\n",
    "Precision score: 100\n",
    "Confusion matrix: (TP: 668 TN: 0, FN: 0, FP: 307)"
   ]
  },
  {
   "cell_type": "markdown",
   "id": "a36ad6b6",
   "metadata": {},
   "source": [
    "I took out the interest rate field from my model;\n",
    "\n",
    "Random forest\n",
    "Accuracy score: 98.20\n",
    "Precision score: 94.44\n",
    "Confusion matrix: (TP: 839 TN: 2, FN: 20, FP: 358)\n",
    "\n",
    "XGBoost\n",
    "Accuracy score: 99.38\n",
    "Precision score: 100\n",
    "Confusion matrix: (TP: 668 TN: 0, FN: 6, FP: 301)"
   ]
  },
  {
   "cell_type": "code",
   "execution_count": null,
   "id": "4e379417",
   "metadata": {},
   "outputs": [],
   "source": []
  }
 ],
 "metadata": {
  "kernelspec": {
   "display_name": "Python 3 (ipykernel)",
   "language": "python",
   "name": "python3"
  },
  "language_info": {
   "codemirror_mode": {
    "name": "ipython",
    "version": 3
   },
   "file_extension": ".py",
   "mimetype": "text/x-python",
   "name": "python",
   "nbconvert_exporter": "python",
   "pygments_lexer": "ipython3",
   "version": "3.9.13"
  }
 },
 "nbformat": 4,
 "nbformat_minor": 5
}
